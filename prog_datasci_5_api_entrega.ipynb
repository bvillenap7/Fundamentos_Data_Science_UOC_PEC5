{
 "metadata": {
  "kernelspec": {
   "display_name": "Python 2",
   "language": "python",
   "name": "python2"
  },
  "language_info": {
   "codemirror_mode": {
    "name": "ipython",
    "version": 2
   },
   "file_extension": ".py",
   "mimetype": "text/x-python",
   "name": "python",
   "nbconvert_exporter": "python",
   "pygments_lexer": "ipython2",
   "version": "2.7.15rc1"
  },
  "name": "",
  "signature": "sha256:fcdb2d30cc564a3fc08530d9631a583ab2cc2ec4b6967017ffa80af0d6aa2ed1"
 },
 "nbformat": 3,
 "nbformat_minor": 0,
 "worksheets": [
  {
   "cells": [
    {
     "cell_type": "heading",
     "level": 1,
     "metadata": {},
     "source": [
      "Programaci\u00f3n para *Data Science*"
     ]
    },
    {
     "cell_type": "markdown",
     "metadata": {},
     "source": [
      "Unidad 5: Adquisici\u00f3n de datos en Python - Ejercicios y preguntas\n",
      "------------------------------------------------------"
     ]
    },
    {
     "cell_type": "markdown",
     "metadata": {},
     "source": [
      "## Pregunta 1\n",
      "\n",
      "Queremos saber los nombres de las personas hay en el espacio en un momento dado. Identificad qu\u00e9 m\u00e9todo de la [siguiente API](http://open-notify.org/Open-Notify-API) podemos utilizar para obtener este dato y contestad a las siguientes preguntas. **(1 punto)**\n",
      "\n",
      "1. \u00bfA qu\u00e9 URL realizaremos la petici\u00f3n?\n",
      "2. \u00bfQu\u00e9 tipo de petici\u00f3n HTTP (qu\u00e9 acci\u00f3n) tendremos que realizar a la API para obtener los datos deseados?\n",
      "3. \u00bfEn qu\u00e9 formato obtendremos la respuesta de la API seleccionada?\n",
      "4. \u00bfEn qu\u00e9 campo de la respuesta encontraremos la informaci\u00f3n que buscamos?\n",
      "\n"
     ]
    },
    {
     "cell_type": "markdown",
     "metadata": {},
     "source": [
      "#### Respuesta\n",
      "\n",
      "1. \n",
      "2. \n",
      "3. \n",
      "4. \n",
      "\n"
     ]
    },
    {
     "cell_type": "markdown",
     "metadata": {},
     "source": [
      "## Pregunta 2\n",
      "\n",
      "Buscad informaci\u00f3n sobre el est\u00e1ndard OAuth 2.0. Explicad una situaci\u00f3n concreta donde ser\u00eda \u00fatil usar OAuth en vez de un protocolo de autenticaci\u00f3n tradicional basado en usuario y contrase\u00f1a. **(1 punto)**"
     ]
    },
    {
     "cell_type": "markdown",
     "metadata": {},
     "source": [
      "**Respuesta**\n"
     ]
    },
    {
     "cell_type": "markdown",
     "metadata": {},
     "source": [
      "## Ejercicio 1\n",
      "\n",
      "Seleccionad y descargad cualquier fichero de datos de alguno de los portales comentados en el Notebook de esta unidad. \n",
      "\n",
      "Cargad los datos en una variable Python (pod\u00e9is usar [pandas](http://pandas.pydata.org/) si quer\u00e9is). Mostrad un mensaje que informe del n\u00famero de muestras que contiene el conjunto de datos y los atributos disponibles para cada muestra. **(1 punto)**\n",
      "\n",
      "\n",
      "\n",
      "\n",
      "\n",
      "\n"
     ]
    },
    {
     "cell_type": "code",
     "collapsed": false,
     "input": [
      "# Respuesta\n"
     ],
     "language": "python",
     "metadata": {},
     "outputs": [],
     "prompt_number": 1
    },
    {
     "cell_type": "markdown",
     "metadata": {},
     "source": [
      "## Ejercicio 2\n",
      "\n",
      "Implementad una funci\u00f3n que devuelva el primer precio del d\u00eda de cambio de bitcoins (BTC) a d\u00f3lares (USD) en Bitstamp. **(1.5 puntos)**\n",
      "\n",
      "**Pista**: [Aqu\u00ed](https://www.bitstamp.net/api/) encontrar\u00e9is la documentaci\u00f3n de la API de Bistamp.\n",
      "\n"
     ]
    },
    {
     "cell_type": "code",
     "collapsed": false,
     "input": [
      "# Respuesta\n"
     ],
     "language": "python",
     "metadata": {},
     "outputs": [],
     "prompt_number": 2
    },
    {
     "cell_type": "markdown",
     "metadata": {},
     "source": [
      "## Ejercicio 3\n",
      "\n",
      "Modificad la funci\u00f3n del ejercicio anterior para que devuelva el primer precio del d\u00eda de cambio de bitcoins (BTC) a euros (EUR). **(0.5 puntos)**\n"
     ]
    },
    {
     "cell_type": "code",
     "collapsed": false,
     "input": [
      "# Respuesta\n"
     ],
     "language": "python",
     "metadata": {},
     "outputs": [],
     "prompt_number": null
    },
    {
     "cell_type": "markdown",
     "metadata": {},
     "source": [
      "## Ejercicio 4\n",
      "\n",
      "Programad una funci\u00f3n que devuelva la fecha y hora de los 15 pr\u00f3ximos pases de la estaci\u00f3n espacial internacional (ISS) por encima de una localizaci\u00f3n concreta especificada por su **direcci\u00f3n**. La funci\u00f3n debe devolver una lista de 15 elementos, cada uno de los cuales debe ser una cadena de caracteres con la fecha y hora de los pases. **(2.5 puntos)**\n",
      "\n",
      "**Pista**: \u00a1pensad que pod\u00e9is combinar resultados de varias API!"
     ]
    },
    {
     "cell_type": "code",
     "collapsed": false,
     "input": [
      "# Respuesta\n"
     ],
     "language": "python",
     "metadata": {},
     "outputs": [],
     "prompt_number": 4
    },
    {
     "cell_type": "markdown",
     "metadata": {},
     "source": [
      "## Ejercicio 5\n",
      "\n",
      "[KDnuggets](http://www.kdnuggets.com/) es una web con contenido sobre *data science*. Entre otros, la web publica tutoriales relacionados con la ciencia de los datos.  \n",
      "\n",
      "Programad un crawler que extraiga los t\u00edtulos de todos los tutoriales y *overviews* que publicaron el mes de Agosto de este a\u00f1o en KDnuggets. **(2.5 puntos)**\n",
      "\n",
      "Para hacerlo, utilizad la estructura de crawler que hemos visto en el notebook de esta unidad, **modificando \u00fanicamente dos l\u00edneas de c\u00f3digo**:\n",
      "- La URL de inicio.\n",
      "- La expresi\u00f3n XPath que selecciona el contenido a capturar.\n",
      "\n",
      "**Pista**: Quiz\u00e1s os puede ser de utilidad investigar sobre la _scrapy shell_ y usarla para encontrar la expresi\u00f3n XPath que necesit\u00e1is para resolver el ejercicio.\n",
      "\n",
      "**Nota**: Si la ejecuci\u00f3n del crawler os devuelve un error `ReactorNotRestartable`, reinciad el kernel del notebook (en el men\u00fa, `Kernel` - `Restart`)."
     ]
    },
    {
     "cell_type": "code",
     "collapsed": false,
     "input": [
      "# Importamos scrapy.\n",
      "import scrapy\n",
      "from scrapy.crawler import CrawlerProcess\n",
      "\n",
      "# Creamos la ara\u00f1a.\n",
      "class uoc_spider(scrapy.Spider):\n",
      "    \n",
      "    # Asignamos un nombre a la ara\u00f1a.\n",
      "    name = \"uoc_spider\"\n",
      "    \n",
      "    # Indicamos la URL que queremos analizar en primer lugar\n",
      "    # Incluid aqu\u00ed la URL de inicio:\n",
      "    ################################################\n",
      "    start_urls = [\n",
      "        \"\"\n",
      "    ]\n",
      "    ################################################\n",
      "    \n",
      "    # Definimos el analizador.\n",
      "    def parse(self, response):\n",
      "        # Extraemos el t\u00edtulo del grado.\n",
      "        # Incluid aqu\u00ed la expresi\u00f3n 'xpath' que nos devuelve los t\u00edtulos de los tutoriales.\n",
      "        ################################################\n",
      "        for t in response.xpath(''):\n",
      "        ################################################\n",
      "            yield {\n",
      "                'title': t.extract()\n",
      "            }\n",
      "            \n",
      "if __name__ == \"__main__\":\n",
      "\n",
      "    # Creamos un crawler.\n",
      "    process = CrawlerProcess({\n",
      "        'USER_AGENT': 'Mozilla/4.0 (compatible; MSIE 7.0; Windows NT 5.1)',\n",
      "        'DOWNLOAD_HANDLERS': {'s3': None},\n",
      "        'LOG_ENABLED': False\n",
      "    })\n",
      "\n",
      "    # Inicializamos el crawler con nuestra ara\u00f1a.\n",
      "    process.crawl(uoc_spider)\n",
      "    \n",
      "    # Lanzamos la ara\u00f1a.\n",
      "    process.start()            "
     ],
     "language": "python",
     "metadata": {},
     "outputs": [],
     "prompt_number": null
    },
    {
     "cell_type": "markdown",
     "metadata": {},
     "source": [
      "## Ejercicio opcional\n",
      "\n",
      "Programad una funci\u00f3n que calcule si la estaci\u00f3n espacial internacional (ISS) se encuentra actualmente encima de una posici\u00f3n geogr\u00e1fica concreta. La funci\u00f3n recibir\u00e1 como par\u00e1metros la longitud y latitud de la posici\u00f3n geogr\u00e1fica, y un radio de tolerancia en kil\u00f3metros (que ser\u00e1 un par\u00e1metro opcional con valor por defecto 10 kilometros). La funci\u00f3n devolver\u00e1 un booleano, True o False, indicando si la ISS se encuentra actualmente encima de la posici\u00f3n que recibe como par\u00e1metro ."
     ]
    },
    {
     "cell_type": "code",
     "collapsed": false,
     "input": [
      "# Respuesta"
     ],
     "language": "python",
     "metadata": {},
     "outputs": [],
     "prompt_number": null
    }
   ],
   "metadata": {}
  }
 ]
}