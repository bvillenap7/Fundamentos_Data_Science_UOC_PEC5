{
 "cells": [
  {
   "cell_type": "markdown",
   "metadata": {},
   "source": [
    "<div style=\"width: 100%; clear: both;\">\n",
    "    <div style=\"float: left; width: 50%;\">\n",
    "       <img src=\"http://www.uoc.edu/portal/_resources/common/imatges/marca_UOC/UOC_Masterbrand.jpg\", align=\"left\">\n",
    "    </div>\n",
    "</div>\n",
    "\n",
    "<div style=\"float: right; width: 50%;\">\n",
    "    <p style=\"margin: 0; padding-top: 22px; text-align:right;\">22.501 · Fundamentos de Programación</p>\n",
    "    <p style=\"margin: 0; text-align:right;\">Grado en Ciencia de Datos Aplicada</p>\n",
    "    <p style=\"margin: 0; text-align:right; padding-button: 100px;\">Estudios de Informática, Multimedia y Telecomunicación</p>\n",
    "</div>\n",
    "\n",
    "</div>\n",
    "<div style=\"width: 100%; clear: both;\">\n",
    "<div style=\"width:100%;\">&nbsp;</div>"
   ]
  },
  {
   "cell_type": "markdown",
   "metadata": {},
   "source": [
    "\n",
    "Unidad 5: Adquisición de datos en Python\n",
    "--------------------------------------\n",
    "\n",
    "Fundamentos de Programación\n",
    "============================\n",
    "\n",
    "\n",
    "En este Notebook se encontraréis el conjunto de actividades evaluables como PEC de la asignatura. Veréis que cada una de ellas tiene asociada una puntuación, que indica el peso que tiene la actividad sobre la nota final de la PEC. Adicionalmente, hay un ejercicio opcional, que no tiene puntuación dentro de la PEC, pero que se valora al final del semestre de cara a conceder las matrículas de honor y redondear las notas finales. Podréis sacar la máxima nota de la PEC sin necesidad de hacer este ejercicio. El objetivo de este ejercicio es que sirva como pequeño reto para los estudiantes que quieran profundizar en el contenido de la asignatura.\n",
    "\n",
    "Veréis que todas las actividades de la PEC tienen una etiqueta, que indica los recursos necesarios para llevarla a cabo. Hay tres posibles etiquetas:\n",
    "\n",
    "* <span style=\"font-family: Courier New; background-color: #82b74b; color: #000000; padding: 3px; \">NM</span> **Sólo materiales**: las herramientas necesarias para realizar la actividad se pueden encontrar en los materiales de la asignatura.\n",
    "\n",
    "* <span style = \"font-family: Courier New; background-color: #ffcc5c; color: #000000; padding: 3px; \">EG</span> **Consulta externa guiada**: la actividad puede requerir hacer uso de herramientas que no se encuentran en los materiales de la asignatura, pero el enunciado contiene indicaciones de dónde o cómo encontrar la información adicional necesaria para resolver la actividad.\n",
    "\n",
    "* <span style = \"font-family: Courier New; background-color: #f2ae72; color: #000000; padding: 3px;\">EI</span> **Consulta externa independiente**: la actividad puede requerir hacer uso de herramientas que no se encuentran en los materiales de la asignatura, y el enunciado puede no incluir la descripción de dónde o cómo encontrar esta información adicional. Será necesario que el estudiante busque esta información utilizando los recursos que se han explicado en la asignatura.\n",
    "\n",
    "Es importante notar que estas etiquetas no indican el nivel de dificultad del ejercicio, sino únicamente la necesidad de consulta de documentación externa para su resolución. Además, recordad que las **etiquetas son informativas**, pero podréis consultar referencias externas en cualquier momento (aunque no se indique explícitamente) o puede ser que podáis hacer una actividad sin consultar ningún tipo de documentación. Por ejemplo, para resolver una actividad que sólo requiera los materiales de la asignatura, puedéis consultar referencias externas si queréis, ya sea tanto para ayudaros en la resolución como para ampliar el conocimiento!\n",
    "\n",
    "En cuanto a la consulta de documentación externa en la resolución de los ejercicios, recordad **citar siempre la bibliografía utilizada** para resolver cada actividad.\n",
    "\n",
    "---"
   ]
  },
  {
   "cell_type": "markdown",
   "metadata": {},
   "source": [
    "### Ejercicio 1"
   ]
  },
  {
   "cell_type": "markdown",
   "metadata": {},
   "source": [
    "Hemos visto el uso de la librería [Requests](http://docs.python-requests.org/) para realizar peticiones a la Web API de manera manual.\n",
    "\n",
    "Mediante esta librería podemos realizar solicitudes como en el ejemplo que hemos visto de [postcodes.io](http://postcodes.io).\n",
    "\n",
    "\n",
    "Hemos visto que, al hacer una petición a una web o API, recuperamos un objeto que contiene, entre otros, los siguientes atributos: `status.code`,`content`, `headers`.\n",
    "\n",
    "Implementa una función de forma que acepte una *url* y devuelva el atributo `content` en caso de que el código de error sea correcto, en caso de que no sea correcto la función debe devolver el valor `None`. En todos los casos la función debe imprimir por pantalla el resultado de la llamada a función con un texto de descripción por los códigos 200, 301, 400, 401, 403, 404, 500 y 501. Deberás buscar la información estos códigos de error http de `status.code`.\n",
    "\n",
    "Por ejemplo, por el código de retorno 200, el texto que ha de imprimir por pantalla la función es `Código 200: Correcto`.\n",
    "\n",
    "\n",
    "Prueba la función con las siguientes URLs:\n",
    "\n",
    "- http://google.com\n",
    "- http://wikipedia.org\n",
    "- https://mikemai.net/\n",
    "- http://google.com/idontexist\n",
    "\n",
    "Almacena los resultados (no los códigos) de las llamadas en una lista de cuatro elementos.\n",
    "\n",
    "**(1 punto)** \n",
    "<span style=\"font-family: Courier New; background-color: #f2ae72; color: #000000; padding: 3px; \">EI</span>"
   ]
  },
  {
   "cell_type": "code",
   "execution_count": null,
   "metadata": {},
   "outputs": [],
   "source": [
    "# Respuesta"
   ]
  },
  {
   "cell_type": "markdown",
   "metadata": {},
   "source": [
    "### Ejercicio 2"
   ]
  },
  {
   "cell_type": "markdown",
   "metadata": {},
   "source": [
    "Para cada una de las siguientes direcciones:\n",
    "\n",
    "1. http://www.ismycomputeron.com\n",
    "1. https://crouton.net\n",
    "1. http://hasthelargehadroncolliderdestroyedtheworldyet.com\n",
    "1. https://api.fbi.gov/wanted/v1/list\n",
    "\n",
    "LLama a cada dirección con `query.get()`, y muestra:\n",
    "\n",
    "- El código de `status.code`.\n",
    "- El contenido de la dirección web, limitando la salida hasta 2500 caracteres\n",
    "\n",
    "Accede a cada una de las direcciones con tu ordenador y observa el contenido en el navegador con el texto de la web. ¿Cuál es la diferencia en el contenido de la última dirección respecto a las tres primeras?\n",
    "\n",
    "**(1.5  puntos)** <span style=\"font-family: Courier New; background-color: #82b74b; color: #000000; padding: 3px; \">NM</span>"
   ]
  },
  {
   "cell_type": "code",
   "execution_count": null,
   "metadata": {},
   "outputs": [],
   "source": [
    "# Respuesta"
   ]
  },
  {
   "cell_type": "markdown",
   "metadata": {},
   "source": [
    "### Ejercicio 3\n",
    "\n",
    "En este ejercicio haremos un poco de *Fun with numbers*. Hay una API para *number-facts* (curiosidades sobre números) en la base de datos http://numbersapi.com. Esta API tiene unos puntos de acceso en los que podemos interrogar la API sobre diferentes curiosidades sobre números enteros y fechas:\n",
    "\n",
    "Dado un número $N$, o una fecha con día $D$ y más $M$, la llamada a las siguientes direcciones proporcionan la siguiente información:\n",
    "\n",
    "\n",
    "| Call | Description |\n",
    "|: ---------: |: ------------------------------------ -------------------------------------------------- ------------ |\n",
    "| Http: //numbersapi.com/N | Trivia about N |\n",
    "| Http: //numbersapi.com/N/math | Mathematical facts about N |\n",
    "| Http: //numbersapi.com/M/D/date | Facts about a particular date |\n",
    "| Http: //numbersapi.com/N/year | Facts about a particular date |\n",
    "\n",
    "\n",
    "Así, para obtener el *fact* número $1$, debemos construir una solicitud a la *url*:\n",
    "\n",
    "- *http: //numbersapi.com/1*\n",
    "\n",
    "El objeto que se nos devolverá, contendrá la información indicada en la tabla en formato de texto directo.\n",
    "\n",
    "a) Construye una función que tenga de argumento dos año $AI$ y $AF$. La función debe recoger los *facts* desde el año $AI$ hasta el año $AF$ ambos incluidos, y devolver un diccionari donde las claves sean el año y los valores sean el *fact* sobre ese año.\n",
    "\n",
    "\n",
    "**(1 punto)** <span style=\"font-family: Courier New; background-color: #82b74b; color: #000000; padding: 3px; \">NM</span>"
   ]
  },
  {
   "cell_type": "code",
   "execution_count": null,
   "metadata": {},
   "outputs": [],
   "source": [
    "# Respuesta"
   ]
  },
  {
   "cell_type": "markdown",
   "metadata": {},
   "source": [
    "b) Usa esta función para mostrar por pantalla los *facts* entre 1900 y 1930, ambos incluidos.\n",
    "\n",
    "**(0.5 puntos)** <span style=\"font-family: Courier New; background-color: #82b74b; color: #000000; padding: 3px; \">NM</span>"
   ]
  },
  {
   "cell_type": "code",
   "execution_count": null,
   "metadata": {},
   "outputs": [],
   "source": [
    "# Respuesta"
   ]
  },
  {
   "cell_type": "markdown",
   "metadata": {},
   "source": [
    "### Ejercicio 4\n",
    "\n",
    "Una de tacos.\n",
    "\n",
    "El proyecto TacoFancy API está construyendo una base de datos de acceso público para ordenar las recetas de Tacos. Estas recetas son accesibles mediante una API a http://taco-randomizer.herokuapp.com/ (si accede a la dirección, tendrá una receta de taco aleatoria, gratis).\n",
    "\n",
    "Esta API construye un taco a partir de cinco elementos: *base_layer*, *mixin*, *condiment*, *seasoning* i *shell*.\n",
    "\n",
    "La API del proyecto acepta diferentes entradas, a partir de la raíz anterior, para acceder a la información de cada elemento y su receta, y también a las recetas de los tacos a partir de sus diferentes ingredientes. Estas son:\n",
    "\n",
    "\n",
    "- *base_layers/*  por las bases del Taco\n",
    "- *mixins/* para rellenar el Taco\n",
    "- *condiments/* para las recetas de diferentes condimentos\n",
    "- *seasonings/* por las diferentes salsas\n",
    "- *shells/* por la *tortilla*\n",
    "\n",
    "Así, por ejemplo, http://taco-randomizer.herokuapp.com/shells/ devolverá el listado de las posibles recetas de *tortillas*. Verá, por ejemplo, que el *slug*   de la *French Corn Tortillas* es `fresh_corn_tortillas`. Esto le dice que la receta de esta Tortilla en particular está a http://taco-randomizer.herokuapp.com/shells/fresh_corn_tortillas. Cada componente tiene su *slug*, y por tanto, para construir la receta de una taco a partir de sus ingredientes, podemos construir una *url* como la siguiente:\n",
    "\n",
    "- http://taco-randomizer.herokuapp.com<base_layer>/\\<mixin\\>/\\<condiment\\>/\\<seasoning\\>/\\<shell\\>/\n",
    "\n",
    "Así, si encuentran los *slugs* correspondientes, podemos encontrar la receta final de un taco construyendo una *url* a partir de los *slugs*, como esta:\n",
    "\n",
    "- http://taco-randomizer.herokuapp.com/bulgar_black_bean_filling/sweet_potato_and_apple_hash/mango_avocado_salsa/mahi_mahi_rub/bad_ass_tortillas/\n",
    "\n",
    "\n",
    "a) Construye una función que devuelva un diccionario que contenga en las llaves (keys) los nombres de cada *seasoning* y los valores (values) la *slug* para cada condimento. Muestra el diccionario por pantalla.\n",
    "\n",
    "\n",
    "Nota: Se denomina usualmente un slug como una parte de una url, o un nombre corto de una url. El término proviene del mundo editorial y se usa extensivamente en internet. Puedes buscar más información en https://en.wikipedia.org/wiki/Slug_(publishing)\n",
    "\n",
    "**(1 punto)** <span style=\"font-family: Courier New; background-color: #ffcc5c; color: #000000; padding: 2px; \">EG</span>"
   ]
  },
  {
   "cell_type": "code",
   "execution_count": null,
   "metadata": {},
   "outputs": [],
   "source": [
    "# Respuesta"
   ]
  },
  {
   "cell_type": "markdown",
   "metadata": {},
   "source": [
    "b) Construye un diccionario, de forma que contenga por cada uno de los 5 elementos como*keys*:  *base_layer*, *mixin*, *condiment*, *seasoning* i *shell*,  un subdiccionario que contenga en las *keys* los nombres de cada ingrediente y en los *values* la *slug* de cada ingrediente. Imprimir el diccionario por pantalla. El resultado debe ser del tipo:\n",
    "\n",
    "`{'base_layers': {'Soyrizo': 'soyrizo',\n",
    "  'Roasted Butternut Squash': 'roasted_butternut_squash',\n",
    "  ...\n",
    "  'Pepper Tempeh': 'pepper_tempeh'},\n",
    " 'mixins': {'Sweet Potato and Apple Hash': 'sweet_potato_and_apple_hash',\n",
    "  'Potato Hash': 'potato_hash',\n",
    "  ...\n",
    "  ...\n",
    "  'Homemade Sriracha': 'homemade_sriracha'},\n",
    " 'shells': {'Fresh Corn Tortillas': 'fresh_corn_tortillas',\n",
    " ...\n",
    "  'bad-ass tortillas': 'bad_ass_tortillas'}}\n",
    "  `\n",
    "  \n",
    "\n",
    "**(1 punto)** <span style=\"font-family: Courier New; background-color:  #ffcc5c; color: #000000; padding: 3px; \">EG</span>\n",
    "\n",
    "Nota: Recuerda que has creado una función de apoyo en el ejercicio anterior que te será útil en este apartado."
   ]
  },
  {
   "cell_type": "code",
   "execution_count": null,
   "metadata": {},
   "outputs": [],
   "source": [
    "# Respuesta"
   ]
  },
  {
   "cell_type": "markdown",
   "metadata": {},
   "source": [
    "c) Construye un objeto dataframe de pandas, con todas las posibles combinaciones de tacos que sean posibles con los ingredientes de la base de datos. Este objeto debe tener 6 columnas,  *base_layer*, *mixin*, *condiment*, *seasoning*, *shell*, que contendrán el nombre de cada ingrediente, y una última con la *url* de la receta del taco. Imprimir las últimas 10 entradas.\n",
    "\n",
    "**(1.5 puntos)** <span style=\"font-family: Courier New; background-color: #82b74b; color: #000000; padding: 3px; \">NM</span>"
   ]
  },
  {
   "cell_type": "code",
   "execution_count": null,
   "metadata": {},
   "outputs": [],
   "source": [
    "# Respuesta"
   ]
  },
  {
   "cell_type": "markdown",
   "metadata": {},
   "source": [
    "d) Elige una url al azar del DataFrame, imprime su *url*, puedes comprobar la receta del taco abriéndola en un navegador. ¿Cuántas recetas únicas son posibles?\n",
    "\n",
    "\n",
    "Nota: Puedes generar un número al azar con el módulo random https://docs.python.org/3/library/random.html\n",
    "\n",
    "**(0.5 puntos)** <span style=\"font-family: Courier New; background-color: #82b74b; color: #000000; padding: 3px; \">NM</span>"
   ]
  },
  {
   "cell_type": "code",
   "execution_count": null,
   "metadata": {},
   "outputs": [],
   "source": [
    "# Respuesta"
   ]
  },
  {
   "cell_type": "markdown",
   "metadata": {},
   "source": [
    "### Ejercicio 5\n",
    "\n",
    "\n",
    "En los ejercicios anteriores, hemos utilizado directamente una API para hacer solicitudes a servicios en línea, y nos encargamos directamente de la gestión de los datos de salida.\n",
    "\n",
    "Sin embargo, también hemos visto en los materiales del curso el uso de librerías que facilitan el acceso a una API, como *tweepy*. La mayoría de estas librerías (y la mayoría de APIs de proyectos populares) requieren un registro en una web de desarrolladores o API Key.\n",
    "\n",
    "En este ejercicio os proponemos el uso de geopy https://geopy.readthedocs.io,\n",
    "\n",
    "\n",
    "Usa la librería **geopy** para programar dos funciones.\n",
    "\n",
    "- La primera función debe tener de entrada un string que contenga una dirección, y de salida devolver una tupla con la geolocalización de esta dirección (Latitud, Longitud)\n",
    "- La segunda función, aceptará de entrada una tupla con latitud y longitud, y aplicará un método de geolocalización reverso para devolver una string con la dirección postal inferida.\n",
    "\n",
    "Ejecuta la primera función con la dirección postal \"Av. Del Tibidabo, 39, 08035 Barcelona\" para encontrar su latitud y longitud, luego ejecuta la segunda función para intentar inferir la dirección postal original. Imprime los dos resultados.\n",
    "\n",
    "\n",
    "\n",
    "**(1 punto)** <span style=\"font-family: Courier New; background-color: #ffcc5c; color: #000000; padding: 2px; \">EG</span>"
   ]
  },
  {
   "cell_type": "code",
   "execution_count": null,
   "metadata": {},
   "outputs": [],
   "source": [
    "# Resultado"
   ]
  },
  {
   "cell_type": "markdown",
   "metadata": {},
   "source": [
    "### Ejercicio 6\n",
    "\n",
    "[Https://meteo.cat/observacions/llistat-xema](https://meteo.cat/observacions/llistat-xema) contiene información de una Red de Estaciones Meteorológicas Automáticas (XEMA) de área catalana. En esta página se puede encontrar el listado de estaciones meteorológicas en área de Cataluña incluyendo información de municipio, comarca, estación, localización, altitud, fechas de alta y baja, y estado actual.\n",
    "\n",
    "\n",
    "Use `scrappy` para mostrar la información del listado por pantalla de las comarcas en la que está cada estación listada, tanto si está activa o no.\n",
    "\n",
    "\n",
    "Como por ejemplo:\n",
    "\n",
    "{ 'Num': 117, 'comarca': 'Solsonès'}\n",
    "\n",
    "Por ello:\n",
    "\n",
    "- Utilice el tutorial de Scrappy para encontrar un `xpath` que contenga la información requerida\n",
    "- Muestre la información requerida en forma de diccionario.\n",
    "\n",
    "**(1 punto)** <span style=\"font-family: Courier New; background-color: #f2ae72; color: #000000; padding: 3px; \">EI</span>\n"
   ]
  },
  {
   "cell_type": "markdown",
   "metadata": {},
   "source": [
    "### Ejercicio opcional"
   ]
  },
  {
   "cell_type": "markdown",
   "metadata": {},
   "source": [
    "Consulte la paǵina web de Open Notify,  que contiene la información tanto sobre los humanos residentes fuera de la tierra (es decir, en el espacio) como de la posición de la estación internacional Espacial. [Open Notify] (http://api.open-notify.org).\n",
    "\n",
    "Programe una función que imprima por pantalla cada 10 segundos, la longitud y latitud, y la dirección postal de la posición sobre la que está volando la ISS. Ejecute esta función 100 veces con un periodo entre llamadas de 10 segundos.\n",
    "\n",
    "Puede comprobar su solución con http://www.isstracker.com.\n",
    "\n",
    " <span style=\"font-family: Courier New; background-color: #f2ae72; color: #000000; padding: 3px; \">EI</span>"
   ]
  },
  {
   "cell_type": "code",
   "execution_count": null,
   "metadata": {},
   "outputs": [],
   "source": [
    "# Respuesta"
   ]
  }
 ],
 "metadata": {
  "kernelspec": {
   "display_name": "Python 3",
   "language": "python",
   "name": "python3"
  },
  "language_info": {
   "codemirror_mode": {
    "name": "ipython",
    "version": 3
   },
   "file_extension": ".py",
   "mimetype": "text/x-python",
   "name": "python",
   "nbconvert_exporter": "python",
   "pygments_lexer": "ipython3",
   "version": "3.9.4"
  }
 },
 "nbformat": 4,
 "nbformat_minor": 2
}
