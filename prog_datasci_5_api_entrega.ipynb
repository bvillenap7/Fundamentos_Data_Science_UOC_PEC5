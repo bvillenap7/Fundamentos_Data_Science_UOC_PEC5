{
 "cells": [
  {
   "cell_type": "markdown",
   "metadata": {},
   "source": [
    "<div style=\"width: 100%; clear: both;\">\n",
    "    <div style=\"float: left; width: 50%;\">\n",
    "       <img src=\"http://www.uoc.edu/portal/_resources/common/imatges/marca_UOC/UOC_Masterbrand.jpg\", align=\"left\">\n",
    "    </div>\n",
    "</div>\n",
    "\n",
    "<div style=\"float: right; width: 50%;\">\n",
    "    <p style=\"margin: 0; padding-top: 22px; text-align:right;\">22.501 · Fundamentos de Programación</p>\n",
    "    <p style=\"margin: 0; text-align:right;\">Grado en Ciencia de Datos Aplicada</p>\n",
    "    <p style=\"margin: 0; text-align:right; padding-button: 100px;\">Estudios de Informática, Multimedia y Telecomunicación</p>\n",
    "</div>\n",
    "\n",
    "</div>\n",
    "<div style=\"width: 100%; clear: both;\">\n",
    "<div style=\"width:100%;\">&nbsp;</div>"
   ]
  },
  {
   "cell_type": "markdown",
   "metadata": {},
   "source": [
    "Fundamentos de Programación\n",
    "============================\n",
    "\n",
    "PEC 5: Adquisición de datos en Python\n",
    "--------------------------------------\n",
    "\n",
    "En este Notebook se encontraréis el conjunto de actividades evaluables como PEC de la asignatura. Veréis que cada una de ellas tiene asociada una puntuación, que indica el peso que tiene la actividad sobre la nota final de la PEC. Adicionalmente, hay un ejercicio opcional, que no tiene puntuación dentro de la PEC, pero que se valora al final del semestre de cara a conceder las matrículas de honor y redondear las notas finales. Podréis sacar la máxima nota de la PEC sin necesidad de hacer este ejercicio. El objetivo de este ejercicio es que sirva como pequeño reto para los estudiantes que quieran profundizar en el contenido de la asignatura.\n",
    "\n",
    "Veréis que todas las actividades de la PEC tienen una etiqueta, que indica los recursos necesarios para llevarla a cabo. Hay tres posibles etiquetas:\n",
    "\n",
    "* <span style=\"font-family: Courier New; background-color: #82b74b; color: #000000; padding: 3px; \">NM</span> **Sólo materiales**: las herramientas necesarias para realizar la actividad se pueden encontrar en los materiales de la asignatura.\n",
    "\n",
    "* <span style = \"font-family: Courier New; background-color: #ffcc5c; color: #000000; padding: 3px; \">EG</span> **Consulta externa guiada**: la actividad puede requerir hacer uso de herramientas que no se encuentran en los materiales de la asignatura, pero el enunciado contiene indicaciones de dónde o cómo encontrar la información adicional necesaria para resolver la actividad.\n",
    "\n",
    "* <span style = \"font-family: Courier New; background-color: #f2ae72; color: #000000; padding: 3px;\">EI</span> **Consulta externa independiente**: la actividad puede requerir hacer uso de herramientas que no se encuentran en los materiales de la asignatura, y el enunciado puede no incluir la descripción de dónde o cómo encontrar esta información adicional. Será necesario que el estudiante busque esta información utilizando los recursos que se han explicado en la asignatura.\n",
    "\n",
    "Es importante notar que estas etiquetas no indican el nivel de dificultad del ejercicio, sino únicamente la necesidad de consulta de documentación externa para su resolución. Además, recordad que las **etiquetas son informativas**, pero podréis consultar referencias externas en cualquier momento (aunque no se indique explícitamente) o puede ser que podáis hacer una actividad sin consultar ningún tipo de documentación. Por ejemplo, para resolver una actividad que sólo requiera los materiales de la asignatura, puedéis consultar referencias externas si queréis, ya sea tanto para ayudaros en la resolución como para ampliar el conocimiento!\n",
    "\n",
    "En cuanto a la consulta de documentación externa en la resolución de los ejercicios, recordad **citar siempre la bibliografía utilizada** para resolver cada actividad.\n",
    "\n",
    "---"
   ]
  },
  {
   "cell_type": "markdown",
   "metadata": {},
   "source": [
    "Ejercicios para la PEC\n",
    "-------------------------------"
   ]
  },
  {
   "cell_type": "markdown",
   "metadata": {},
   "source": [
    "### Ejercicio 1"
   ]
  },
  {
   "cell_type": "markdown",
   "metadata": {},
   "source": [
    "Empezaremos con un ejercicio para la revisión de ciertos métodos de peticiones (*requests*) HTTP así como el significado de distintos códigos de estado (*status codes*). \n",
    "\n",
    "Cuando realicéis peticiones manuales con la librería `requests` con el modo \"debug\" activado, suelen aparecer una serie de mensajes de *log* en un cuadro rosa detallando diferente información. Hemos recopilando ciertos de estos mensajes pero hemos perdido la instrucción de código que los generaba.\n",
    "\n",
    "Deduce la instrucción python que se ha ejecutado en cada caso y explica brevemente el tipo de petición realizada y los [*status codes*](https://docs.python-requests.org/en/master/api/#status-code-lookup) obtenidos. Para entender todos los parámetros no dudes en ejecutar tu propia instrucción y echar un vistazo al encabezado (*headers*) de la respuesta.\n",
    "\n",
    "**(1 punto)** <span style = \"font-family: Courier New; background-color: #ffcc5c; color: #000000; padding: 3px; \">EG</span> "
   ]
  },
  {
   "cell_type": "markdown",
   "metadata": {},
   "source": [
    "(a) El bloque de mensajes después de la petición es:\n",
    "\n",
    "`\n",
    "2022-04-15 10:48:03 [urllib3.connectionpool] DEBUG: Starting new HTTP connection (1): www.wikimedia.org:80\n",
    "2022-04-15 10:48:04 [urllib3.connectionpool] DEBUG: http://www.wikimedia.org:80 \"GET / HTTP/1.1\" 301 0\n",
    "2022-04-15 10:48:04 [urllib3.connectionpool] DEBUG: Starting new HTTPS connection (1): www.wikimedia.org:443\n",
    "2022-04-15 10:48:04 [urllib3.connectionpool] DEBUG: https://www.wikimedia.org:443 \"GET / HTTP/1.1\" 200 1924\n",
    "`"
   ]
  },
  {
   "cell_type": "markdown",
   "metadata": {},
   "source": [
    "(b) El bloque de mensajes después de la petición es:\n",
    "\n",
    "`\n",
    "2022-04-15 09:00:55 [urllib3.connectionpool] DEBUG: Starting new HTTPS connection (1): www.wikimedia.org:443\n",
    "2022-04-15 09:00:55 [urllib3.connectionpool] DEBUG: https://www.wikimedia.org:443 \"POST /blblb HTTP/1.1\" 404 688\n",
    "`"
   ]
  },
  {
   "cell_type": "markdown",
   "metadata": {},
   "source": [
    "(c) El bloque de mensajes después de la petición es:\n",
    "\n",
    "`\n",
    "2022-03-17 09:04:25 [urllib3.connectionpool] DEBUG: Starting new HTTP connection (1): www.wikimedia.org:80\n",
    "2022-03-17 09:04:26 [urllib3.connectionpool] DEBUG: http://www.wikimedia.org:80 \"DELETE / HTTP/1.1\" 403 1927\n",
    "`"
   ]
  },
  {
   "cell_type": "code",
   "execution_count": 15,
   "metadata": {},
   "outputs": [],
   "source": [
    "# Respuesta\n"
   ]
  },
  {
   "cell_type": "markdown",
   "metadata": {},
   "source": [
    "### Ejercicio 2"
   ]
  },
  {
   "cell_type": "markdown",
   "metadata": {},
   "source": [
    "En este ejercicio trabajaremos las peticiones de tipo GET y analizaremos ciertas características de la respuesta. Para ello nos fijaremos en el *mapa de sitio web* de la página siguiente: https://www.sitemaps.org/\n",
    "\n",
    "Un mapa de sitio web ([*sitemap*](https://en.wikipedia.org/wiki/Site_map)) es una lista de las páginas de un sitio web accesibles por parte de los buscadores y los usuarios. El mapa de sitio web representa de algún modo la arquitetura de dicha página web y facilita la tarea a los bots de indexación y motores de búsqueda.\n",
    "\n",
    "Considera pues la siguiente *url*: https://www.sitemaps.org/sitemap.xml"
   ]
  },
  {
   "cell_type": "markdown",
   "metadata": {},
   "source": [
    "(a) Utiliza la función GET para hacer una llamada a dicha url y comprueba que la petición se ha realizado correctamente. **(0.5 puntos)** <span style=\"font-family: Courier New; background-color: #82b74b; color: #000000; padding: 3px; \">NM</span>"
   ]
  },
  {
   "cell_type": "code",
   "execution_count": 16,
   "metadata": {},
   "outputs": [],
   "source": [
    "# Respuesta\n"
   ]
  },
  {
   "cell_type": "markdown",
   "metadata": {},
   "source": [
    "(b) Consulta la cabecera que nos ha devuelto el servidor. ¿Qué formato tiene el contenido de la respuesta obtenida (*content-type*)? **(0.5 puntos)** <span style=\"font-family: Courier New; background-color: #82b74b; color: #000000; padding: 3px; \">NM</span>"
   ]
  },
  {
   "cell_type": "code",
   "execution_count": 17,
   "metadata": {},
   "outputs": [],
   "source": [
    "# Respuesta\n"
   ]
  },
  {
   "cell_type": "markdown",
   "metadata": {},
   "source": [
    "(c) Comenta el código siguiente y explica su próposito. **(0.5 puntos)** <span style=\"font-family: Courier New; background-color: #82b74b; color: #000000; padding: 3px; \">NM</span>"
   ]
  },
  {
   "cell_type": "markdown",
   "metadata": {},
   "source": [
    "```python\n",
    "from lxml import html\n",
    "\n",
    "x = html.fromstring(requests.get(\"https://www.sitemaps.org/sitemap.xml\").content)\n",
    "y = x.xpath('//urlset/url/loc')\n",
    "\n",
    "z = []\n",
    "for row in y:\n",
    "    z.append(row.text)\n",
    "```"
   ]
  },
  {
   "cell_type": "code",
   "execution_count": 18,
   "metadata": {},
   "outputs": [],
   "source": [
    "# Respuesta\n"
   ]
  },
  {
   "cell_type": "markdown",
   "metadata": {},
   "source": [
    "(d) Realiza una petición GET a todas las *urls* disponibles en el archivo siguiente: https://www.sitemaps.org/sitemap.xml .\n",
    "¿Cuántas han fallado? Imprime el número por pantalla. **(0.5 puntos)** <span style=\"font-family: Courier New; background-color: #82b74b; color: #000000; padding: 3px; \">NM</span>"
   ]
  },
  {
   "cell_type": "code",
   "execution_count": 19,
   "metadata": {},
   "outputs": [],
   "source": [
    "# Respuesta\n"
   ]
  },
  {
   "cell_type": "markdown",
   "metadata": {},
   "source": [
    "### Ejercicio 3"
   ]
  },
  {
   "cell_type": "markdown",
   "metadata": {},
   "source": [
    "Seguimos explorando las posibilidades del método GET y la manipulación de contenidos de distintos tipos."
   ]
  },
  {
   "cell_type": "markdown",
   "metadata": {},
   "source": [
    "(a) Realiza una petición GET a dicha url y verifica el `status_code` y el formato del contenido de la respuesta. **(0.5 puntos)** <span style=\"font-family: Courier New; background-color: #82b74b; color: #000000; padding: 3px; \">NM</span>"
   ]
  },
  {
   "cell_type": "code",
   "execution_count": 20,
   "metadata": {},
   "outputs": [],
   "source": [
    "# Respuesta\n"
   ]
  },
  {
   "cell_type": "markdown",
   "metadata": {},
   "source": [
    "(b) Procesa la respuesta a la petición anterior y extrae de ella la lista de *memes* (imágenes) disponibles. ¿Qué longitud tiene la lista? **(0.5 puntos)** <span style=\"font-family: Courier New; background-color: #82b74b; color: #000000; padding: 3px; \">NM</span>"
   ]
  },
  {
   "cell_type": "code",
   "execution_count": 21,
   "metadata": {},
   "outputs": [],
   "source": [
    "# Respuesta\n"
   ]
  },
  {
   "cell_type": "markdown",
   "metadata": {},
   "source": [
    "(c) Haz una petición sobre el *meme* (imagen) con *id = 1464444*, ¿qué diferencia observas entre los atributos *content* y *text* de la respuesta recibida? **(0.5 puntos)** <span style=\"font-family: Courier New; background-color: #82b74b; color: #000000; padding: 3px; \">NM</span>"
   ]
  },
  {
   "cell_type": "code",
   "execution_count": 22,
   "metadata": {},
   "outputs": [],
   "source": [
    "# Respuesta\n"
   ]
  },
  {
   "cell_type": "markdown",
   "metadata": {},
   "source": [
    "(d) Teniendo en cuenta el formato del contenido de la respuesta a la petición anterior, visualiza por pantalla la imagen correspondiente. Para ello puedes utilizar la función `Image` disponible en la librería [`IPython`](https://ipython.readthedocs.io/en/stable/api/generated/IPython.display.html). **(Opcional)** <span style = \"font-family: Courier New; background-color: #ffcc5c; color: #000000; padding: 3px; \">EG</span>"
   ]
  },
  {
   "cell_type": "code",
   "execution_count": 23,
   "metadata": {},
   "outputs": [],
   "source": [
    "# Respuesta\n"
   ]
  },
  {
   "cell_type": "markdown",
   "metadata": {},
   "source": [
    "### Ejercicio 4"
   ]
  },
  {
   "cell_type": "markdown",
   "metadata": {},
   "source": [
    "En esta ocasión consideraremos la página web de *Wikipedia* para la realización de peticiones manuales."
   ]
  },
  {
   "cell_type": "markdown",
   "metadata": {},
   "source": [
    "(a) Realiza una función que, dado un número entero (`int`) como argumento, devuelva una tupla con dos enteros: el `status_code` asociado a la petición enviada y el número de caracteres del código HTML de su entrada en la *Wikipedia* inglesa (ej: https://en.wikipedia.org/wiki/1 para el número 1).\n",
    "**(1 punto)** <span style=\"font-family: Courier New; background-color: #82b74b; color: #000000; padding: 3px; \">NM</span>"
   ]
  },
  {
   "cell_type": "code",
   "execution_count": 24,
   "metadata": {},
   "outputs": [],
   "source": [
    "# Respuesta\n"
   ]
  },
  {
   "cell_type": "markdown",
   "metadata": {},
   "source": [
    "(b) Considera las páginas inglesas de la Wikipedia para los enteros 1 a 10 y utiliza la función anterior para determinar qué entrada tiene un código HTML con más caracteres. Durante el cálculo, verifica que los `status_code` sean correctos. **(0.5 puntos)** <span style=\"font-family: Courier New; background-color: #82b74b; color: #000000; padding: 3px; \">NM</span>"
   ]
  },
  {
   "cell_type": "code",
   "execution_count": 25,
   "metadata": {},
   "outputs": [],
   "source": [
    "# Respuesta\n"
   ]
  },
  {
   "cell_type": "markdown",
   "metadata": {},
   "source": [
    "### Ejercicio 5"
   ]
  },
  {
   "cell_type": "markdown",
   "metadata": {},
   "source": [
    "La geocodificación de una dirección concreta puede ser muy útil para visualizar información en un mapa, para calcular distancias entre dos puntos, optimizar rutas, etc. Existen numerosas APIs ofreciendo servicios de mapeado en línea y en este ejercicio utilizaremos una en particular: [OpenStreetMap (OSM)](https://www.openstreetmap.org/).\n",
    "\n",
    "(a) Lee la [documentación](https://nominatim.org/release-docs/develop/api/Search/) y realiza una petición a la correspondiente url para obtener las coordenadas geográficas de la ciudad de Barcelona. Utiliza un diccionario como argumento para indicar al servidor la ciudad (*Barcelona*), el país (*Spain*) y el formato de la respuesta (*JSON*) e imprime por pantalla las coordenadas de latitud y longitud que correspondan. **(1  punto)** <span style = \"font-family: Courier New; background-color: #ffcc5c; color: #000000; padding: 3px; \">EG</span>"
   ]
  },
  {
   "cell_type": "code",
   "execution_count": 26,
   "metadata": {},
   "outputs": [],
   "source": [
    "# Respuesta\n"
   ]
  },
  {
   "cell_type": "markdown",
   "metadata": {},
   "source": [
    "(b) Como en el apartado anterior, vuelve a utilizar una petición GET para obtener las coordenadas geográficas pero, esta vez, no utilices ningún diccionario para indicar los parámetros de ciudad, país y formato de respuesta del servidor y añádelos explicitamente a la url. Imprime por pantalla un booleano que permita saber si se han obtenido las mismas coordenadas geográficas que en el apartado anterior. **(1  punto)** <span style = \"font-family: Courier New; background-color: #f2ae72; color: #000000; padding: 3px;\">EI</span> "
   ]
  },
  {
   "cell_type": "code",
   "execution_count": 27,
   "metadata": {},
   "outputs": [],
   "source": [
    "# Respuesta\n"
   ]
  },
  {
   "cell_type": "markdown",
   "metadata": {},
   "source": [
    "(c) En los apartados anteriores, hemos utilizado API's con peticiones que realizamos explícitamente. Sin embargo, hemos visto en los materiales de la asignatura que existe la posibilidad de utilizar librerías que \"camuflan\" dichas peticiones y facilitan la interacción con ciertos servicios online, sería el caso de *tweepy*, *wikipedia*, etc. \n",
    "\n",
    "En este apartado importaremos `geopy` que, a diferencia de la mayoría de APIs de proyectos populares, no necesita ningún registro en una web de desarrolladores o API Key.\n",
    "\n",
    "Lee la [documentación](https://geopy.readthedocs.io) y utiliza `geopy` para obtener la ciudad y el país de la ubicación correspondiente a la latitud y longitud obtenidas en los dos apartados anteriores. **(0.5 puntos)** <span style = \"font-family: Courier New; background-color: #ffcc5c; color: #000000; padding: 3px; \">EG</span>"
   ]
  },
  {
   "cell_type": "code",
   "execution_count": 28,
   "metadata": {},
   "outputs": [],
   "source": [
    "# Respuesta\n"
   ]
  },
  {
   "cell_type": "markdown",
   "metadata": {},
   "source": [
    "### Ejercicio 6"
   ]
  },
  {
   "cell_type": "markdown",
   "metadata": {},
   "source": [
    "En este ejercicio practicaremos con la librería `scrapy` para programar un *crawler* que devuelva los precios de determinados libros electrónicos y en papel. Para ello utilizaremos la estructura de *crawler* presentada en el Notebook de teoría de esta unidad modificando únicamente algunas líneas.\n",
    "\n",
    "(a) Considera las direcciones de inicio [url_1]('https://www.fnac.es/a4867397') y [url_2]('https://www.fnac.es/a9019254/') y deduce las expresiones `XPATH` necesarias para seleccionar:\n",
    "- el título del libro en cuestión,\n",
    "- el precio de su versión en formato electrónico,\n",
    "- el precio de su versión en formato papel.\n",
    "\n",
    "El *crawler* debe devolver la información correspondiente a estas tres expresiones en forma de diccionario teniendo en cuenta que los precios deben almacenarse en variables numéricas. Para ello, define una función que, para cada precio, realice la conversión necesaria de formato y tipo.\n",
    "\n",
    "NOTA: si la ejecución del crawler os devuelve un error `ReactorNotRestartable`, reiniciad el núcleo del Notebook (en el menú: `Kernel - Restart`)\n",
    "**(1.5 puntos)** <span style = \"font-family: Courier New; background-color: #ffcc5c; color: #000000; padding: 3px; \">EG</span>"
   ]
  },
  {
   "cell_type": "code",
   "execution_count": 29,
   "metadata": {},
   "outputs": [],
   "source": [
    "# Respuesta\n"
   ]
  },
  {
   "cell_type": "markdown",
   "metadata": {},
   "source": [
    "(b) Modifica el código anterior para poder enlazar con las urls que resultan de una búsqueda concreta en el buscador de la web. Para simplificar, solo nos concentraremos en la primera página de resultados. El objetivo es que para cada artículo que aparezca en la lista, el *crawler* devuelva un diccionario que contenga el título, el precio para el formato electrónico y el precio para el formato papel.\n",
    "\n",
    "Para la url de inicio puedes tomar la siguiente [lista de resultados de búsqueda](https://www.fnac.es/SearchResult/ResultList.aspx?Search=python+3+machine+learning+libro). **(Opcional)** <span style = \"font-family: Courier New; background-color: #f2ae72; color: #000000; padding: 3px;\">EI</span> "
   ]
  },
  {
   "cell_type": "code",
   "execution_count": 30,
   "metadata": {},
   "outputs": [],
   "source": [
    "# Respuesta\n"
   ]
  }
 ],
 "metadata": {
  "kernelspec": {
   "display_name": "Python 3",
   "language": "python",
   "name": "python3"
  },
  "language_info": {
   "codemirror_mode": {
    "name": "ipython",
    "version": 3
   },
   "file_extension": ".py",
   "mimetype": "text/x-python",
   "name": "python",
   "nbconvert_exporter": "python",
   "pygments_lexer": "ipython3",
   "version": "3.8.10"
  }
 },
 "nbformat": 4,
 "nbformat_minor": 2
}
