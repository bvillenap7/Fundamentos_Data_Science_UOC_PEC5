{
 "cells": [
  {
   "cell_type": "markdown",
   "metadata": {},
   "source": [
    "<div style=\"width: 100%; clear: both;\">\n",
    "    <div style=\"float: left; width: 50%;\">\n",
    "       <img src=\"http://www.uoc.edu/portal/_resources/common/imatges/marca_UOC/UOC_Masterbrand.jpg\", align=\"left\">\n",
    "    </div>\n",
    "</div>\n",
    "\n",
    "<div style=\"float: right; width: 50%;\">\n",
    "    <p style=\"margin: 0; padding-top: 22px; text-align:right;\">22.501 · Fundamentos de Programación</p>\n",
    "    <p style=\"margin: 0; text-align:right;\">Grado en Ciencia de Datos Aplicada</p>\n",
    "    <p style=\"margin: 0; text-align:right; padding-button: 100px;\">Estudios de Informática, Multimedia y Telecomunicación</p>\n",
    "</div>\n",
    "\n",
    "</div>\n",
    "<div style=\"width: 100%; clear: both;\">\n",
    "<div style=\"width:100%;\">&nbsp;</div>"
   ]
  },
  {
   "cell_type": "markdown",
   "metadata": {},
   "source": [
    "\n",
    "Unidad 5: Adquisición de datos en Python\n",
    "--------------------------------------\n",
    "\n",
    "Fundamentos de Programación\n",
    "============================\n",
    "\n",
    "\n",
    "En este Notebook se encontraréis el conjunto de actividades evaluables como PEC de la asignatura. Veréis que cada una de ellas tiene asociada una puntuación, que indica el peso que tiene la actividad sobre la nota final de la PEC. Adicionalmente, hay un ejercicio opcional, que no tiene puntuación dentro de la PEC, pero que se valora al final del semestre de cara a conceder las matrículas de honor y redondear las notas finales. Podréis sacar la máxima nota de la PEC sin necesidad de hacer este ejercicio. El objetivo de este ejercicio es que sirva como pequeño reto para los estudiantes que quieran profundizar en el contenido de la asignatura.\n",
    "\n",
    "Veréis que todas las actividades de la PEC tienen una etiqueta, que indica los recursos necesarios para llevarla a cabo. Hay tres posibles etiquetas:\n",
    "\n",
    "* <span style=\"font-family: Courier New; background-color: #82b74b; color: #000000; padding: 3px; \">NM</span> **Sólo materiales**: las herramientas necesarias para realizar la actividad se pueden encontrar en los materiales de la asignatura.\n",
    "\n",
    "* <span style = \"font-family: Courier New; background-color: #ffcc5c; color: #000000; padding: 3px; \">EG</span> **Consulta externa guiada**: la actividad puede requerir hacer uso de herramientas que no se encuentran en los materiales de la asignatura, pero el enunciado contiene indicaciones de dónde o cómo encontrar la información adicional necesaria para resolver la actividad.\n",
    "\n",
    "* <span style = \"font-family: Courier New; background-color: #f2ae72; color: #000000; padding: 3px;\">EI</span> **Consulta externa independiente**: la actividad puede requerir hacer uso de herramientas que no se encuentran en los materiales de la asignatura, y el enunciado puede no incluir la descripción de dónde o cómo encontrar esta información adicional. Será necesario que el estudiante busque esta información utilizando los recursos que se han explicado en la asignatura.\n",
    "\n",
    "Es importante notar que estas etiquetas no indican el nivel de dificultad del ejercicio, sino únicamente la necesidad de consulta de documentación externa para su resolución. Además, recordad que las **etiquetas son informativas**, pero podréis consultar referencias externas en cualquier momento (aunque no se indique explícitamente) o puede ser que podáis hacer una actividad sin consultar ningún tipo de documentación. Por ejemplo, para resolver una actividad que sólo requiera los materiales de la asignatura, puedéis consultar referencias externas si queréis, ya sea tanto para ayudaros en la resolución como para ampliar el conocimiento!\n",
    "\n",
    "En cuanto a la consulta de documentación externa en la resolución de los ejercicios, recordad **citar siempre la bibliografía utilizada** para resolver cada actividad.\n",
    "\n",
    "---"
   ]
  },
  {
   "cell_type": "markdown",
   "metadata": {},
   "source": [
    "### Ejercicio 1"
   ]
  },
  {
   "cell_type": "markdown",
   "metadata": {},
   "source": [
    "Hemos visto el uso de la librería [Requests](http://docs.python-requests.org/) para realizar peticiones a la Web API de manera manual.\n",
    "\n",
    "Mediante esta librería podemos realizar solicitudes como en el ejemplo que hemos visto de [postcodes.io](http://postcodes.io).\n",
    "\n",
    "\n",
    "Hemos visto que, al hacer una petición a una web o API, recuperamos un objeto que contiene, entre otros, los siguientes atributos: `status.code`,`content`, `headers`.\n",
    "\n",
    "Implementa una función de forma que:\n",
    "\n",
    "1. acepte una *url* y, en caso de que el `status.code`  sea correcto, imprima el nombre de cada uno de los `header` junto con su contenido.  \n",
    "\n",
    "1. En caso  de que el `status.code` contenga un código de error, no debe imprimir los `header` sino el código de error recibido. \n",
    "\n",
    "1. La función debe retornar el código de error a la salida.\n",
    "\n",
    "\n",
    "Prueba la función con las siguientes URLs:\n",
    "\n",
    "- http://wikipedia.org\n",
    "- http://google.com/thehearthisflat\n",
    "\n",
    "\n",
    "**(1 punto)** \n",
    "<span style=\"font-family: Courier New; background-color: #f2ae72; color: #000000; padding: 3px; \">EI</span>"
   ]
  },
  {
   "cell_type": "code",
   "execution_count": 2,
   "metadata": {},
   "outputs": [],
   "source": [
    "# Respuesta"
   ]
  },
  {
   "cell_type": "markdown",
   "metadata": {},
   "source": [
    "### Ejercicio 2"
   ]
  },
  {
   "cell_type": "markdown",
   "metadata": {},
   "source": [
    "Para cada una de las siguientes direcciones:\n",
    "\n",
    "1. https://cat-bounce.com\n",
    "1. https://www.boredapi.com/api/\n",
    "\n",
    "mediante los servicios de `requests`, muestra:\n",
    "\n",
    "- La longitud del contenido de la dirección web. \n",
    "- El contenido de la dirección web, limitando la salida hasta 1000 caracteres.\n",
    "\n",
    "Accede a cada una de las direcciones con tu ordenador y observa el contenido en el navegador con el texto de la web. ¿Cuál es la diferencia en el contenido de la segunda dirección respecto a las  primera?\n",
    "\n",
    "**(1  punto)** <span style=\"font-family: Courier New; background-color: #82b74b; color: #000000; padding: 3px; \">NM</span>"
   ]
  },
  {
   "cell_type": "code",
   "execution_count": 6,
   "metadata": {},
   "outputs": [],
   "source": [
    "# Respuesta"
   ]
  },
  {
   "cell_type": "markdown",
   "metadata": {},
   "source": [
    "### Ejercicio 3\n",
    "\n",
    "En este ejercicio lucharemos un poco contra el aburrimiento.  Hay una API para justamente esto en la dirección https://www.boredapi.com, podéis ver la documentación de la API en https://www.boredapi.com/documentation. \n",
    "\n",
    "\n",
    "Por ejemplo, dada una llamada a esta dirección, obtenemos una actividad de forma aleatoria: \n",
    "\n",
    "| Call | Description |\n",
    "|: ---------: |: ------------------------------------ -------------------------------------------------- ------------ |\n",
    "| http://www.boredapi.com/api/activity/ | Random activity |\n",
    "\n",
    "\n",
    "\n",
    "a) Usa requests para llamar a la dirección anterior 100 veces. ¿Cuántas actividades aparecen para dos o más participantes? \n",
    "\n",
    "\n",
    "**(1 punto)** <span style=\"font-family: Courier New; background-color: #82b74b; color: #000000; padding: 3px; \">NM</span>"
   ]
  },
  {
   "cell_type": "code",
   "execution_count": 1,
   "metadata": {},
   "outputs": [],
   "source": [
    "# Respuesta"
   ]
  },
  {
   "cell_type": "markdown",
   "metadata": {},
   "source": [
    "b) La documentación de la API indica que es posible hacer búsquedas incluyendo parámetros, como por ejemplo via la ruta: \n",
    "\n",
    "> /api/activity?minprice=:minprice&maxprice=:maxprice\n",
    "\n",
    "Escribe una función llamada `fun` que:\n",
    "\n",
    "1. Tenga dos parámetros de entrada (`minprice`, `maxprice`).\n",
    "\n",
    "2. Devuelva un diccionario solo con los elementos `price`, `activity` y `type`. \n",
    "\n",
    "Llama a esta función otras 100 veces y comprueba que todos los precios se ajustan a los valores de la llamada. \n",
    "\n",
    "**(1 punto)** <span style=\"font-family: Courier New; background-color: #82b74b; color: #000000; padding: 3px; \">NM</span>"
   ]
  },
  {
   "cell_type": "code",
   "execution_count": 1,
   "metadata": {},
   "outputs": [],
   "source": [
    "# Respuesta"
   ]
  },
  {
   "cell_type": "markdown",
   "metadata": {},
   "source": [
    "### Ejercicio 4\n",
    "\n",
    "Una del espacio.\n",
    "\n",
    "\n",
    "SWAPI es la Star Wars API, quizás la primera fuente de datos accesible de forma programática sobre el universo Star Wars. Esta API no requiere autenticación y está ubicada en la URL: `https://swapi.dev/api/`. \n",
    "\n",
    "Puedes consultar la documentación de la API en https://swapi.dev/documentation. Verás que la API permite consultar sobre los siguientes *atributes* (en inglés): \n",
    "\n",
    "- **films** -- The URL root for Film resources\n",
    "- **people** -- The URL root for People resources\n",
    "- **planets** -- The URL root for Planet resources\n",
    "- **species** -- The URL root for Species resources\n",
    "- **starships** -- The URL root for Starships resources\n",
    "- **vehicles** -- The URL root for Vehicles resources\n",
    "\n",
    "\n",
    "Por una parte, usando la url `https://swapi.dev/api/<atribute>` podemos interrogar a la API sobre todos los elementos de un atributo. Si añadimos un `/<id>` a la url, podemos interrogar sobre un elemento  en particular.\n",
    "\n",
    "Así, por ejemplo, `https://swapi.dev/api/<atribute>/<id>/`, con el *slug* de *atribute* igual a `people`, y el *slug* de `id` igual a 1, devolverá la información relativa al personaje con identificador 1. \n",
    "\n",
    "a) Obtén una variable con una cadena de texto o `string`, que contenga solo el nombre del personaje número 1 obtenido de forma programática mediante el acceso a la API via `requests`.\n",
    "\n",
    "\n",
    "Nota: Se denomina usualmente un slug como una parte de una url, o un nombre corto de una url. El término proviene del mundo editorial y se usa extensivamente en internet. Puedes buscar más información en https://en.wikipedia.org/wiki/Slug_(publishing)\n",
    "\n",
    "**(0.5 puntos)** <span style=\"font-family: Courier New; background-color: #ffcc5c; color: #000000; padding: 2px; \">EG</span>"
   ]
  },
  {
   "cell_type": "code",
   "execution_count": null,
   "metadata": {},
   "outputs": [],
   "source": [
    "# Respuesta"
   ]
  },
  {
   "cell_type": "markdown",
   "metadata": {},
   "source": [
    "b) Construye una lista con la información de todos los personahes. Organiza tu código con funciones que te ayuden a realizar las solicitudes. Ten en cuenta que los resultados pueden estar paginados (solo se muestra una parte de resultados en cada solicitud).\n",
    "\n",
    "¿Cuántos personajes has recuperado?\n",
    "  \n",
    "**(1.5 puntos)** <span style=\"font-family: Courier New; background-color:  #ffcc5c; color: #000000; padding: 3px; \">EG</span>\n"
   ]
  },
  {
   "cell_type": "code",
   "execution_count": null,
   "metadata": {},
   "outputs": [],
   "source": [
    "# Respuesta"
   ]
  },
  {
   "cell_type": "markdown",
   "metadata": {},
   "source": [
    "c) Construye un objeto dataframe de pandas que contenga, `people`, `species`,`classification` (de `species`),`designation` (de `species`) y  `films` a partir de la información de la API. Ten en cuenta que : \n",
    "\n",
    "- Crea tantas filas como necesites (e.g. si un personaje aparece en dos films).  \n",
    "- Usa el nombre de cada atributo (e.g. el nombre de propietario) para el contenido del dataframe,  y no su identificador o url. \n",
    "- Muestra por pantalla las primeras y las últimas 5 entradas del dataframe.\n",
    "\n",
    "**(1.5 puntos)** <span style=\"font-family: Courier New; background-color: #82b74b; color: #000000; padding: 3px; \">NM</span>"
   ]
  },
  {
   "cell_type": "code",
   "execution_count": null,
   "metadata": {},
   "outputs": [],
   "source": [
    "# Respuesta"
   ]
  },
  {
   "cell_type": "markdown",
   "metadata": {},
   "source": [
    "### Ejercicio 5\n",
    "\n",
    "\n",
    "En los ejercicios anteriores, hemos utilizado directamente una API para hacer solicitudes a servicios en línea, y nos encargamos directamente de la gestión de los datos de salida.\n",
    "\n",
    "Sin embargo, también hemos visto en los materiales del curso el uso de librerías que facilitan el acceso a una API, como *tweepy*. \n",
    "\n",
    "La mayoría de estas librerías (y la mayoría de APIs de proyectos populares) requieren un registro en una web de desarrolladores o API Key.\n",
    "\n",
    "En este ejercicio os proponemos el uso de geopy https://geopy.readthedocs.io en conjunción con una API, Open Notify, que contiene la información tanto sobre los humanos residentes fuera de la tierra (es decir, en el espacio) como de la posición de la estación internacional Espacial. [Open Notify](http://api.open-notify.org).\n",
    "\n",
    "Programa una función que obtenga la  longitud y latitud de la posición sobre la que está volando la ISS. Calcula, de forma aproximada su velocidad (suponiendo que estuviera en la superficie de la tierra), obteniendo dos localizaciones consecutivas dentro de un intervalo de tiempo, y calculando la distancia entre estas. \n",
    "\n",
    "Puedes guiarte con estas dos funciones: \n",
    "\n",
    "- la función `sleep` del módulo `time`, para pausar un número de segundos.\n",
    "- la función `distance` del module `geopy.distance` para calcular la distancia entre dos localizaciones en el globo. \n",
    "\n",
    "\n",
    "**(1.5 puntos)** <span style=\"font-family: Courier New; background-color: #ffcc5c; color: #000000; padding: 2px; \">EG</span>"
   ]
  },
  {
   "cell_type": "code",
   "execution_count": null,
   "metadata": {},
   "outputs": [],
   "source": [
    "# Resultado"
   ]
  },
  {
   "cell_type": "markdown",
   "metadata": {},
   "source": [
    "### Ejercicio 6\n",
    "\n",
    "El  New Mexico Tech Seismological Observatory almacena un registro de eventos sísmicos recientes. Este registro está disponible, por ejemplo en esta web. \n",
    "\n",
    "- https://geoinfo.nmt.edu/nmtso/events/home.cfml \n",
    "\n",
    "\n",
    "\n",
    "Usa `scrappy` para mostrar la información del listado por pantalla de las \"Date+Time (UTC)\" de cada evento de la página.\n",
    "\n",
    "\n",
    "\n",
    "Para ello:\n",
    "\n",
    "- Utiliza el tutorial de Scrappy para encontrar un `xpath` que contenga la información requerida.\n",
    "- Muestra la información requerida en forma de diccionario.\n",
    "\n",
    "**(1 punto)** <span style=\"font-family: Courier New; background-color: #f2ae72; color: #000000; padding: 3px; \">EI</span>\n"
   ]
  },
  {
   "cell_type": "code",
   "execution_count": null,
   "metadata": {},
   "outputs": [],
   "source": [
    "# Respuesta"
   ]
  },
  {
   "cell_type": "markdown",
   "metadata": {},
   "source": [
    "### Ejercicio opcional"
   ]
  },
  {
   "cell_type": "markdown",
   "metadata": {},
   "source": [
    "La [NASA](https://www.nasa.gov) mediate su [API](https://api.nasa.gov) publica cada día una imagen astronómica.  \n",
    "\n",
    "Implementa una función para descargar la imagen y visualizarla dentro del mismo notebook. Deberás obtener una clave para usar la API de la NASA.\n",
    "\n",
    "\n",
    " <span style=\"font-family: Courier New; background-color: #f2ae72; color: #000000; padding: 3px; \">EI</span>"
   ]
  },
  {
   "cell_type": "code",
   "execution_count": null,
   "metadata": {},
   "outputs": [],
   "source": [
    "# Respuesta"
   ]
  }
 ],
 "metadata": {
  "kernelspec": {
   "display_name": "Python 3",
   "language": "python",
   "name": "python3"
  },
  "language_info": {
   "codemirror_mode": {
    "name": "ipython",
    "version": 3
   },
   "file_extension": ".py",
   "mimetype": "text/x-python",
   "name": "python",
   "nbconvert_exporter": "python",
   "pygments_lexer": "ipython3",
   "version": "3.8.12"
  }
 },
 "nbformat": 4,
 "nbformat_minor": 2
}
