{
 "metadata": {
  "name": "",
  "signature": "sha256:33206e3027e9bcc229106fd18147c5acd851759387e333b0c553dcce45e5b959"
 },
 "nbformat": 3,
 "nbformat_minor": 0,
 "worksheets": [
  {
   "cells": [
    {
     "cell_type": "heading",
     "level": 1,
     "metadata": {},
     "source": [
      "Programaci\u00f3n para *Data Science*"
     ]
    },
    {
     "cell_type": "markdown",
     "metadata": {},
     "source": [
      "Unidad 5: Adquisici\u00f3n de datos en Python - Ejercicios y preguntas\n",
      "------------------------------------------------------"
     ]
    },
    {
     "cell_type": "markdown",
     "metadata": {},
     "source": [
      "## Ejercicio 1\n",
      "\n",
      "Seleccionad y descargad cualquier fichero de datos de alguno de los portales comentados en el Notebook de esta unidad. \n",
      "\n",
      "Cargad los datos en una variable Python (pod\u00e9is usar [pandas](http://pandas.pydata.org/) si quer\u00e9is). Mostrad el n\u00famero de muestras que contiene el conjunto de datos y los atributos disponibles para cada muestra. **(1 punto)**\n",
      "\n",
      "\n",
      "\n",
      "\n",
      "\n",
      "\n"
     ]
    },
    {
     "cell_type": "code",
     "collapsed": false,
     "input": [
      "# Respuesta\n"
     ],
     "language": "python",
     "metadata": {},
     "outputs": [],
     "prompt_number": 1
    },
    {
     "cell_type": "markdown",
     "metadata": {},
     "source": [
      "## Pregunta 1\n",
      "\n",
      "Queremos saber cu\u00e1ntas personas hay en el espacio en un momento dado. Identificad qu\u00e9 m\u00e9todo de la [siguiente API](http://open-notify.org/Open-Notify-API) podemos utilizar para obtener este dato y contestad a las siguientes preguntas. **(1 punto)**\n",
      "\n",
      "1. \u00bfA qu\u00e9 URL realizaremos la petici\u00f3n?\n",
      "2. \u00bfQu\u00e9 tipo de petici\u00f3n HTTP (qu\u00e9 acci\u00f3n) tendremos que realizar a la API para obtener los datos deseados?\n",
      "3. \u00bfEn qu\u00e9 formato obtendremos la respuesta de la API seleccionada?\n",
      "4. \u00bfEn qu\u00e9 campo de la respuesta encontraremos la informaci\u00f3n que buscamos?\n",
      "\n"
     ]
    },
    {
     "cell_type": "markdown",
     "metadata": {},
     "source": [
      "#### Respuesta\n"
     ]
    },
    {
     "cell_type": "markdown",
     "metadata": {},
     "source": [
      "## Ejercicio 2\n",
      "\n",
      "Implementad una funci\u00f3n que devuelva el n\u00famero de personas que hay actualmente en el espacio. **(1.5 puntos)**"
     ]
    },
    {
     "cell_type": "code",
     "collapsed": false,
     "input": [
      "# Respuesta\n"
     ],
     "language": "python",
     "metadata": {},
     "outputs": [],
     "prompt_number": 2
    },
    {
     "cell_type": "markdown",
     "metadata": {},
     "source": [
      "## Ejercicio 3\n",
      "\n",
      "Programad una funci\u00f3n que muestre la fecha y hora de los diez pr\u00f3ximos pases de la estaci\u00f3n espacial internacional (ISS) por encima de una localizaci\u00f3n concreta (especificada por su direcci\u00f3n postal). **(2 puntos)**\n",
      "\n",
      "**Pista**: \u00a1pensad que pod\u00e9is combinar resultados de varias API!"
     ]
    },
    {
     "cell_type": "code",
     "collapsed": false,
     "input": [
      "# Respuesta\n"
     ],
     "language": "python",
     "metadata": {},
     "outputs": [],
     "prompt_number": 4
    },
    {
     "cell_type": "markdown",
     "metadata": {},
     "source": [
      "## Pregunta 2\n",
      "\n",
      "\u00bfQu\u00e9 es la _scrapy shell_? Describid para qu\u00e9 sirve y poned alg\u00fan ejemplo de su uso. **(1 punto)**\n"
     ]
    },
    {
     "cell_type": "markdown",
     "metadata": {},
     "source": [
      "**Respuesta**\n"
     ]
    },
    {
     "cell_type": "markdown",
     "metadata": {},
     "source": [
      "## Ejercicio 4\n",
      "\n",
      "[KDnuggets](http://www.kdnuggets.com/) es una web con contenido sobre *Data Science*. Entre otros, la web mantiene un listado de ofertas de trabajo relacionadas con el \u00e1mbito.  \n",
      "\n",
      "Programad un *crawler* que extraiga los t\u00edtulos de todas las ofertas de trabajo de KDnuggets. **(2.5 puntos)**\n",
      "\n",
      "Para hacerlo, utilizad la estructura de *crawler* que hemos visto en el Notebook de esta unidad, **modificando \u00fanicamente dos l\u00edneas de c\u00f3digo**:\n",
      "- La URL de inicio.\n",
      "- La expresi\u00f3n XPath que selecciona el contenido que hay que capturar.\n",
      "\n",
      "**Nota**: si la ejecuci\u00f3n del *crawler* os devuelve un error `ReactorNotRestartable`, reinciad el *kernel* del Notebook (en el men\u00fa, `Kernel` - `Restart`)."
     ]
    },
    {
     "cell_type": "code",
     "collapsed": false,
     "input": [
      "# Importamos scrapy.\n",
      "import scrapy\n",
      "from scrapy.crawler import CrawlerProcess\n",
      "\n",
      "# Creamos la ara\u00f1a.\n",
      "class uoc_spider(scrapy.Spider):\n",
      "    \n",
      "    # Asignamos un nombre a la ara\u00f1a.\n",
      "    name = \"uoc_spider\"\n",
      "    \n",
      "    # Indicamos la URL que queremos analizar en primer lugar\n",
      "    # Incluid aqu\u00ed la URL de inicio:\n",
      "    ################################################\n",
      "    start_urls = [\n",
      "        \"\"\n",
      "    ]\n",
      "    ################################################\n",
      "    \n",
      "    # Definimos el analizador.\n",
      "    def parse(self, response):\n",
      "        # Extraemos el t\u00edtulo del grado.\n",
      "        # Incluid aqu\u00ed la expresi\u00f3n 'xpath' que nos devuelve los t\u00edtulos de las ofertas de trabajo.\n",
      "        ################################################\n",
      "        for t in response.xpath(''):\n",
      "        ################################################\n",
      "            yield {\n",
      "                'title': t.extract()\n",
      "            }\n",
      "            \n",
      "if __name__ == \"__main__\":\n",
      "\n",
      "    # Creamos un crawler.\n",
      "    process = CrawlerProcess({\n",
      "        'USER_AGENT': 'Mozilla/4.0 (compatible; MSIE 7.0; Windows NT 5.1)',\n",
      "        'DOWNLOAD_HANDLERS': {'s3': None},\n",
      "        'LOG_ENABLED': False\n",
      "    })\n",
      "\n",
      "    # Inicializamos el crawler con nuestra ara\u00f1a.\n",
      "    process.crawl(uoc_spider)\n",
      "    \n",
      "    # Lanzamos la ara\u00f1a.\n",
      "    process.start()            "
     ],
     "language": "python",
     "metadata": {},
     "outputs": [
      {
       "output_type": "stream",
       "stream": "stderr",
       "text": [
        "INFO:scrapy.utils.log:Scrapy 1.0.3 started (bot: scrapybot)\n"
       ]
      },
      {
       "output_type": "stream",
       "stream": "stderr",
       "text": [
        "INFO:scrapy.utils.log:Optional features available: ssl, http11, boto\n"
       ]
      },
      {
       "output_type": "stream",
       "stream": "stderr",
       "text": [
        "INFO:scrapy.utils.log:Overridden settings: {'USER_AGENT': 'Mozilla/4.0 (compatible; MSIE 7.0; Windows NT 5.1)', 'LOG_ENABLED': False}\n"
       ]
      },
      {
       "output_type": "stream",
       "stream": "stderr",
       "text": [
        "INFO:scrapy.middleware:Enabled extensions: CloseSpider, TelnetConsole, LogStats, CoreStats, SpiderState\n"
       ]
      },
      {
       "output_type": "stream",
       "stream": "stderr",
       "text": [
        "INFO:scrapy.middleware:Enabled downloader middlewares: HttpAuthMiddleware, DownloadTimeoutMiddleware, UserAgentMiddleware, RetryMiddleware, DefaultHeadersMiddleware, MetaRefreshMiddleware, HttpCompressionMiddleware, RedirectMiddleware, CookiesMiddleware, ChunkedTransferMiddleware, DownloaderStats\n"
       ]
      },
      {
       "output_type": "stream",
       "stream": "stderr",
       "text": [
        "INFO:scrapy.middleware:Enabled spider middlewares: HttpErrorMiddleware, OffsiteMiddleware, RefererMiddleware, UrlLengthMiddleware, DepthMiddleware\n"
       ]
      },
      {
       "output_type": "stream",
       "stream": "stderr",
       "text": [
        "INFO:scrapy.middleware:Enabled item pipelines: \n"
       ]
      },
      {
       "output_type": "stream",
       "stream": "stderr",
       "text": [
        "INFO:scrapy.core.engine:Spider opened\n"
       ]
      },
      {
       "output_type": "stream",
       "stream": "stderr",
       "text": [
        "INFO:scrapy.extensions.logstats:Crawled 0 pages (at 0 pages/min), scraped 0 items (at 0 items/min)\n"
       ]
      },
      {
       "output_type": "stream",
       "stream": "stderr",
       "text": [
        "DEBUG:scrapy.telnet:Telnet console listening on 127.0.0.1:6024\n"
       ]
      },
      {
       "output_type": "stream",
       "stream": "stderr",
       "text": [
        "DEBUG:scrapy.core.engine:Crawled (200) <GET http://www.kdnuggets.com/jobs/index.html> (referer: None)\n"
       ]
      },
      {
       "output_type": "stream",
       "stream": "stderr",
       "text": [
        "DEBUG:scrapy.core.scraper:Scraped from <200 http://www.kdnuggets.com/jobs/index.html>\n",
        "{'title': u'Chubb: Customer Experience & Marketing Analytics Manager'}\n"
       ]
      },
      {
       "output_type": "stream",
       "stream": "stderr",
       "text": [
        "DEBUG:scrapy.core.scraper:Scraped from <200 http://www.kdnuggets.com/jobs/index.html>\n",
        "{'title': u'Live.xyz: Senior Data Scientist'}\n"
       ]
      },
      {
       "output_type": "stream",
       "stream": "stderr",
       "text": [
        "DEBUG:scrapy.core.scraper:Scraped from <200 http://www.kdnuggets.com/jobs/index.html>\n",
        "{'title': u'Turner: Sr. Operations Research Analyst / Data Scientist'}\n"
       ]
      },
      {
       "output_type": "stream",
       "stream": "stderr",
       "text": [
        "DEBUG:scrapy.core.scraper:Scraped from <200 http://www.kdnuggets.com/jobs/index.html>\n",
        "{'title': u'Turner: Advisor Analytics Architect'}\n"
       ]
      },
      {
       "output_type": "stream",
       "stream": "stderr",
       "text": [
        "DEBUG:scrapy.core.scraper:Scraped from <200 http://www.kdnuggets.com/jobs/index.html>\n",
        "{'title': u'Apple: Software Engineer \\u2013 Local Search'}\n"
       ]
      },
      {
       "output_type": "stream",
       "stream": "stderr",
       "text": [
        "DEBUG:scrapy.core.scraper:Scraped from <200 http://www.kdnuggets.com/jobs/index.html>\n",
        "{'title': u'PeachIH: Data Scientist, Machine Learning Engineer'}\n"
       ]
      },
      {
       "output_type": "stream",
       "stream": "stderr",
       "text": [
        "DEBUG:scrapy.core.scraper:Scraped from <200 http://www.kdnuggets.com/jobs/index.html>\n",
        "{'title': u'Eindhoven University of Technology: Full Professor Database Technology'}\n"
       ]
      },
      {
       "output_type": "stream",
       "stream": "stderr",
       "text": [
        "DEBUG:scrapy.core.scraper:Scraped from <200 http://www.kdnuggets.com/jobs/index.html>\n",
        "{'title': u'Corios: IT Systems Administrator'}\n"
       ]
      },
      {
       "output_type": "stream",
       "stream": "stderr",
       "text": [
        "DEBUG:scrapy.core.scraper:Scraped from <200 http://www.kdnuggets.com/jobs/index.html>\n",
        "{'title': u'Aetna: Lead Data Scientist'}\n"
       ]
      },
      {
       "output_type": "stream",
       "stream": "stderr",
       "text": [
        "DEBUG:scrapy.core.scraper:Scraped from <200 http://www.kdnuggets.com/jobs/index.html>\n",
        "{'title': u'Accenture: Artificial Intelligence Experienced Researcher'}\n"
       ]
      },
      {
       "output_type": "stream",
       "stream": "stderr",
       "text": [
        "DEBUG:scrapy.core.scraper:Scraped from <200 http://www.kdnuggets.com/jobs/index.html>\n",
        "{'title': u'LeapYear: Lead Data Scientist'}\n"
       ]
      },
      {
       "output_type": "stream",
       "stream": "stderr",
       "text": [
        "DEBUG:scrapy.core.scraper:Scraped from <200 http://www.kdnuggets.com/jobs/index.html>\n",
        "{'title': u'IRIS Advanced Engineering: TecnioSpring Data Mining Fellowship'}\n"
       ]
      },
      {
       "output_type": "stream",
       "stream": "stderr",
       "text": [
        "DEBUG:scrapy.core.scraper:Scraped from <200 http://www.kdnuggets.com/jobs/index.html>\n",
        "{'title': u'Schwab: Senior Data Scientist'}\n"
       ]
      },
      {
       "output_type": "stream",
       "stream": "stderr",
       "text": [
        "DEBUG:scrapy.core.scraper:Scraped from <200 http://www.kdnuggets.com/jobs/index.html>\n",
        "{'title': u'Stylight: Senior Data Scientist'}\n"
       ]
      },
      {
       "output_type": "stream",
       "stream": "stderr",
       "text": [
        "DEBUG:scrapy.core.scraper:Scraped from <200 http://www.kdnuggets.com/jobs/index.html>\n",
        "{'title': u'Freeletics: Data Scientist'}\n"
       ]
      },
      {
       "output_type": "stream",
       "stream": "stderr",
       "text": [
        "DEBUG:scrapy.core.scraper:Scraped from <200 http://www.kdnuggets.com/jobs/index.html>\n",
        "{'title': u'Apple: Data Mining Scientist'}\n"
       ]
      },
      {
       "output_type": "stream",
       "stream": "stderr",
       "text": [
        "DEBUG:scrapy.core.scraper:Scraped from <200 http://www.kdnuggets.com/jobs/index.html>\n",
        "{'title': u'Metis: Evangelist'}\n"
       ]
      },
      {
       "output_type": "stream",
       "stream": "stderr",
       "text": [
        "DEBUG:scrapy.core.scraper:Scraped from <200 http://www.kdnuggets.com/jobs/index.html>\n",
        "{'title': u'Altria: Applied Statistician, Regulatory Affairs'}\n"
       ]
      },
      {
       "output_type": "stream",
       "stream": "stderr",
       "text": [
        "DEBUG:scrapy.core.scraper:Scraped from <200 http://www.kdnuggets.com/jobs/index.html>\n",
        "{'title': u'Netflix: Manager, Content Programming Science & Algorithms'}\n"
       ]
      },
      {
       "output_type": "stream",
       "stream": "stderr",
       "text": [
        "DEBUG:scrapy.core.scraper:Scraped from <200 http://www.kdnuggets.com/jobs/index.html>\n",
        "{'title': u'Aetna: Principal Data Scientist'}\n"
       ]
      },
      {
       "output_type": "stream",
       "stream": "stderr",
       "text": [
        "DEBUG:scrapy.core.scraper:Scraped from <200 http://www.kdnuggets.com/jobs/index.html>\n",
        "{'title': u'ACI Worldwide: Sr. Data Scientist'}\n"
       ]
      },
      {
       "output_type": "stream",
       "stream": "stderr",
       "text": [
        "DEBUG:scrapy.core.scraper:Scraped from <200 http://www.kdnuggets.com/jobs/index.html>\n",
        "{'title': u'R2: DevOps for Data Science'}\n"
       ]
      },
      {
       "output_type": "stream",
       "stream": "stderr",
       "text": [
        "DEBUG:scrapy.core.scraper:Scraped from <200 http://www.kdnuggets.com/jobs/index.html>\n",
        "{'title': u'NEC Labs: Researcher'}\n"
       ]
      },
      {
       "output_type": "stream",
       "stream": "stderr",
       "text": [
        "DEBUG:scrapy.core.scraper:Scraped from <200 http://www.kdnuggets.com/jobs/index.html>\n",
        "{'title': u'89degrees: SAS Campaign Developer'}\n"
       ]
      },
      {
       "output_type": "stream",
       "stream": "stderr",
       "text": [
        "DEBUG:scrapy.core.scraper:Scraped from <200 http://www.kdnuggets.com/jobs/index.html>\n",
        "{'title': u'89degrees: SAS Administrator'}\n"
       ]
      },
      {
       "output_type": "stream",
       "stream": "stderr",
       "text": [
        "DEBUG:scrapy.core.scraper:Scraped from <200 http://www.kdnuggets.com/jobs/index.html>\n",
        "{'title': u'89degrees: Enterprise Data Architect'}\n"
       ]
      },
      {
       "output_type": "stream",
       "stream": "stderr",
       "text": [
        "DEBUG:scrapy.core.scraper:Scraped from <200 http://www.kdnuggets.com/jobs/index.html>\n",
        "{'title': u'Scripps: Director, Data Science'}\n"
       ]
      },
      {
       "output_type": "stream",
       "stream": "stderr",
       "text": [
        "DEBUG:scrapy.core.scraper:Scraped from <200 http://www.kdnuggets.com/jobs/index.html>\n",
        "{'title': u'Scripps: Data Scientist'}\n"
       ]
      },
      {
       "output_type": "stream",
       "stream": "stderr",
       "text": [
        "DEBUG:scrapy.core.scraper:Scraped from <200 http://www.kdnuggets.com/jobs/index.html>\n",
        "{'title': u'Dstillery: Senior Data Scientist'}\n"
       ]
      },
      {
       "output_type": "stream",
       "stream": "stderr",
       "text": [
        "DEBUG:scrapy.core.scraper:Scraped from <200 http://www.kdnuggets.com/jobs/index.html>\n",
        "{'title': u'Senior Data Scientist (Inv / Risk / Marketing) NY & BOS | Recent PhD'}\n"
       ]
      },
      {
       "output_type": "stream",
       "stream": "stderr",
       "text": [
        "DEBUG:scrapy.core.scraper:Scraped from <200 http://www.kdnuggets.com/jobs/index.html>\n",
        "{'title': u'FeatureX: Software Engineer'}\n"
       ]
      },
      {
       "output_type": "stream",
       "stream": "stderr",
       "text": [
        "DEBUG:scrapy.core.scraper:Scraped from <200 http://www.kdnuggets.com/jobs/index.html>\n",
        "{'title': u'FeatureX: Machine Learning Research Scientist'}\n"
       ]
      },
      {
       "output_type": "stream",
       "stream": "stderr",
       "text": [
        "DEBUG:scrapy.core.scraper:Scraped from <200 http://www.kdnuggets.com/jobs/index.html>\n",
        "{'title': u'FeatureX: Computer Vision Research Scientist'}\n"
       ]
      },
      {
       "output_type": "stream",
       "stream": "stderr",
       "text": [
        "DEBUG:scrapy.core.scraper:Scraped from <200 http://www.kdnuggets.com/jobs/index.html>\n",
        "{'title': u'Aetna: Lead Data Scientist'}\n"
       ]
      },
      {
       "output_type": "stream",
       "stream": "stderr",
       "text": [
        "DEBUG:scrapy.core.scraper:Scraped from <200 http://www.kdnuggets.com/jobs/index.html>\n",
        "{'title': u'U. of Calgary: Professor, Tier 1 Canada Research Chair, Biomedical Engineering'}\n"
       ]
      },
      {
       "output_type": "stream",
       "stream": "stderr",
       "text": [
        "DEBUG:scrapy.core.scraper:Scraped from <200 http://www.kdnuggets.com/jobs/index.html>\n",
        "{'title': u'Aetna: Senior Data Scientist'}\n"
       ]
      },
      {
       "output_type": "stream",
       "stream": "stderr",
       "text": [
        "DEBUG:scrapy.core.scraper:Scraped from <200 http://www.kdnuggets.com/jobs/index.html>\n",
        "{'title': u'Aetna: Principal Data Scientist'}\n"
       ]
      },
      {
       "output_type": "stream",
       "stream": "stderr",
       "text": [
        "DEBUG:scrapy.core.scraper:Scraped from <200 http://www.kdnuggets.com/jobs/index.html>\n",
        "{'title': u'Stylight: Senior Data Scientist'}\n"
       ]
      },
      {
       "output_type": "stream",
       "stream": "stderr",
       "text": [
        "DEBUG:scrapy.core.scraper:Scraped from <200 http://www.kdnuggets.com/jobs/index.html>\n",
        "{'title': u'Ferris State University: Assistant Professor Business Data Analytics'}\n"
       ]
      },
      {
       "output_type": "stream",
       "stream": "stderr",
       "text": [
        "DEBUG:scrapy.core.scraper:Scraped from <200 http://www.kdnuggets.com/jobs/index.html>\n",
        "{'title': u'Accenture: Data Scientist'}\n"
       ]
      },
      {
       "output_type": "stream",
       "stream": "stderr",
       "text": [
        "INFO:scrapy.core.engine:Closing spider (finished)\n"
       ]
      },
      {
       "output_type": "stream",
       "stream": "stderr",
       "text": [
        "INFO:scrapy.statscollectors:Dumping Scrapy stats:\n",
        "{'downloader/request_bytes': 247,\n",
        " 'downloader/request_count': 1,\n",
        " 'downloader/request_method_count/GET': 1,\n",
        " 'downloader/response_bytes': 10204,\n",
        " 'downloader/response_count': 1,\n",
        " 'downloader/response_status_count/200': 1,\n",
        " 'finish_reason': 'finished',\n",
        " 'finish_time': datetime.datetime(2017, 3, 29, 9, 24, 51, 977869),\n",
        " 'item_scraped_count': 40,\n",
        " 'log_count/DEBUG': 42,\n",
        " 'log_count/INFO': 7,\n",
        " 'response_received_count': 1,\n",
        " 'scheduler/dequeued': 1,\n",
        " 'scheduler/dequeued/memory': 1,\n",
        " 'scheduler/enqueued': 1,\n",
        " 'scheduler/enqueued/memory': 1,\n",
        " 'start_time': datetime.datetime(2017, 3, 29, 9, 24, 51, 448811)}\n"
       ]
      },
      {
       "output_type": "stream",
       "stream": "stderr",
       "text": [
        "INFO:scrapy.core.engine:Spider closed (finished)\n"
       ]
      }
     ],
     "prompt_number": 1
    },
    {
     "cell_type": "markdown",
     "metadata": {},
     "source": [
      "## Pregunta 3\n",
      "\n",
      "\u00bfQu\u00e9 es OAuth? Explicad una situaci\u00f3n donde ser\u00eda \u00fatil usar OAuth en vez de un protocolo de autenticaci\u00f3n tradicional basado en usuario y contrase\u00f1a. **(1 punto)**"
     ]
    },
    {
     "cell_type": "markdown",
     "metadata": {},
     "source": [
      "**Respuesta**\n"
     ]
    }
   ],
   "metadata": {}
  }
 ]
}