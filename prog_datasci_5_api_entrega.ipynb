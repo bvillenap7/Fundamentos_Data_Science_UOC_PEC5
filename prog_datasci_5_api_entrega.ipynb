{
 "cells": [
  {
   "cell_type": "markdown",
   "metadata": {},
   "source": [
    "# Programación para *Data Science*"
   ]
  },
  {
   "cell_type": "markdown",
   "metadata": {},
   "source": [
    "Unidad 5: Adquisición de datos en Python - Ejercicios y preguntas\n",
    "------------------------------------------------------"
   ]
  },
  {
   "cell_type": "markdown",
   "metadata": {},
   "source": [
    "## Pregunta 1\n",
    "\n",
    "Queremos saber los nombres de las personas hay en el espacio en un momento dado. Identificad qué método de la [siguiente API](http://open-notify.org/Open-Notify-API) podemos utilizar para obtener este dato y contestad a las siguientes preguntas. **(1 punto)**\n",
    "\n",
    "1. ¿A qué URL realizaremos la petición?\n",
    "2. ¿Qué tipo de petición HTTP (qué acción) tendremos que realizar a la API para obtener los datos deseados?\n",
    "3. ¿En qué formato obtendremos la respuesta de la API seleccionada?\n",
    "4. ¿En qué campo de la respuesta encontraremos la información que buscamos?\n",
    "\n"
   ]
  },
  {
   "cell_type": "markdown",
   "metadata": {},
   "source": [
    "#### Respuesta\n",
    "\n",
    "1. \n",
    "2. \n",
    "3. \n",
    "4. \n",
    "\n"
   ]
  },
  {
   "cell_type": "markdown",
   "metadata": {},
   "source": [
    "## Pregunta 2\n",
    "\n",
    "Buscad información sobre el estándard OAuth. Explicad una situación concreta donde sería útil usar OAuth en vez de un protocolo de autenticación tradicional basado en usuario y contraseña. **(1 punto)**"
   ]
  },
  {
   "cell_type": "markdown",
   "metadata": {},
   "source": [
    "**Respuesta**\n"
   ]
  },
  {
   "cell_type": "markdown",
   "metadata": {},
   "source": [
    "## Ejercicio 1\n",
    "\n",
    "Seleccionad y descargad cualquier fichero de datos de alguno de los portales comentados en el Notebook de esta unidad. \n",
    "\n",
    "Cargad los datos en una variable Python (podéis usar [pandas](http://pandas.pydata.org/) si queréis). Mostrad un mensaje que informe del número de muestras que contiene el conjunto de datos y los atributos disponibles para cada muestra. **(1 punto)**\n",
    "\n",
    "\n",
    "\n",
    "\n",
    "\n",
    "\n"
   ]
  },
  {
   "cell_type": "code",
   "execution_count": 1,
   "metadata": {},
   "outputs": [],
   "source": [
    "# Respuesta\n"
   ]
  },
  {
   "cell_type": "markdown",
   "metadata": {},
   "source": [
    "## Ejercicio 2\n",
    "\n",
    "Implementad una función que devuelva el primer precio del día de cambio de bitcoins (BTC) a dólares (USD) en Bitstamp. **(1.5 puntos)**\n",
    "\n",
    "**Pista**: [Aquí](https://www.bitstamp.net/api/) encontraréis la documentación de la API de Bistamp.\n",
    "\n"
   ]
  },
  {
   "cell_type": "code",
   "execution_count": 2,
   "metadata": {},
   "outputs": [],
   "source": [
    "# Respuesta\n"
   ]
  },
  {
   "cell_type": "markdown",
   "metadata": {},
   "source": [
    "## Ejercicio 3\n",
    "\n",
    "Modificad la función del ejercicio anterior para que devuelva el primer precio del día de cambio de bitcoins (BTC) a euros (EUR). **(0.5 puntos)**\n"
   ]
  },
  {
   "cell_type": "code",
   "execution_count": null,
   "metadata": {},
   "outputs": [],
   "source": [
    "# Respuesta\n"
   ]
  },
  {
   "cell_type": "markdown",
   "metadata": {},
   "source": [
    "## Ejercicio 4\n",
    "\n",
    "Programad una función que devuelva la fecha y hora de los 15 próximos pases de la estación espacial internacional (ISS) por encima de una localización concreta (especificada por su dirección postal). La función debe devolver una lista de 15 elementos, cada uno de los cuales debe ser una cadena de caracteres con la fecha y hora de los pases. **(2.5 puntos)**\n",
    "\n",
    "**Pista**: ¡pensad que podéis combinar resultados de varias API!"
   ]
  },
  {
   "cell_type": "code",
   "execution_count": 4,
   "metadata": {},
   "outputs": [],
   "source": [
    "# Respuesta\n"
   ]
  },
  {
   "cell_type": "markdown",
   "metadata": {},
   "source": [
    "## Ejercicio 5\n",
    "\n",
    "[KDnuggets](http://www.kdnuggets.com/) es una web con contenido sobre data science. Entre otros, la web publica tutoriales relacionados con el ámbito.  \n",
    "\n",
    "Programad un crawler que extraiga los títulos de todos los tutoriales y *overviews* que publicaron el mes de Agosto de este año en KDnuggets. **(2.5 puntos)**\n",
    "\n",
    "Para hacerlo, utilizad la estructura de crawler que hemos visto en el notebook de esta unidad, **modificando únicamente dos líneas de código**:\n",
    "- La URL de inicio.\n",
    "- La expresión XPath que selecciona el contenido a capturar.\n",
    "\n",
    "**Pista**: Quizás os puede ser de utilidad investigar sobre la _scrapy shell_ y usarla para encontrar la expresión XPath que necesitáis para resolver el ejercicio.\n",
    "\n",
    "**Nota**: Si la ejecución del crawler os devuelve un error `ReactorNotRestartable`, reinciad el kernel del notebook (en el menú, `Kernel` - `Restart`)."
   ]
  },
  {
   "cell_type": "code",
   "execution_count": null,
   "metadata": {},
   "outputs": [],
   "source": [
    "# Importamos scrapy.\n",
    "import scrapy\n",
    "from scrapy.crawler import CrawlerProcess\n",
    "\n",
    "# Creamos la araña.\n",
    "class uoc_spider(scrapy.Spider):\n",
    "    \n",
    "    # Asignamos un nombre a la araña.\n",
    "    name = \"uoc_spider\"\n",
    "    \n",
    "    # Indicamos la URL que queremos analizar en primer lugar\n",
    "    # Incluid aquí la URL de inicio:\n",
    "    ################################################\n",
    "    start_urls = [\n",
    "        \"\"\n",
    "    ]\n",
    "    ################################################\n",
    "    \n",
    "    # Definimos el analizador.\n",
    "    def parse(self, response):\n",
    "        # Extraemos el título del grado.\n",
    "        # Incluid aquí la expresión 'xpath' que nos devuelve las etiquetas de las ofertas de trabajo.\n",
    "        ################################################\n",
    "        for t in response.xpath(''):\n",
    "        ################################################\n",
    "            yield {\n",
    "                'title': t.extract()\n",
    "            }\n",
    "            \n",
    "if __name__ == \"__main__\":\n",
    "\n",
    "    # Creamos un crawler.\n",
    "    process = CrawlerProcess({\n",
    "        'USER_AGENT': 'Mozilla/4.0 (compatible; MSIE 7.0; Windows NT 5.1)',\n",
    "        'DOWNLOAD_HANDLERS': {'s3': None},\n",
    "        'LOG_ENABLED': False\n",
    "    })\n",
    "\n",
    "    # Inicializamos el crawler con nuestra araña.\n",
    "    process.crawl(uoc_spider)\n",
    "    \n",
    "    # Lanzamos la araña.\n",
    "    process.start()            "
   ]
  },
  {
   "cell_type": "markdown",
   "metadata": {},
   "source": [
    "## Ejercicio opcional\n",
    "\n",
    "Programad una función que calcule si la estación espacial internacional (ISS) se encuentra actualmente encima de una posición geográfica concreta. La función recibirá como parámetros la longitud y latitud de la posición geográfica, y un radio de tolerancia en kilómetros (que será un parámetro opcional con valor por defecto 10 kilometros). La función devolverá un booleano, True o False, indicando si la ISS se encuentra actualmente encima de la posición que recibe como parámetro ."
   ]
  },
  {
   "cell_type": "code",
   "execution_count": null,
   "metadata": {},
   "outputs": [],
   "source": [
    "# Respuesta"
   ]
  }
 ],
 "metadata": {
  "kernelspec": {
   "display_name": "Python 2",
   "language": "python",
   "name": "python2"
  },
  "language_info": {
   "codemirror_mode": {
    "name": "ipython",
    "version": 2
   },
   "file_extension": ".py",
   "mimetype": "text/x-python",
   "name": "python",
   "nbconvert_exporter": "python",
   "pygments_lexer": "ipython2",
   "version": "2.7.15rc1"
  }
 },
 "nbformat": 4,
 "nbformat_minor": 1
}
