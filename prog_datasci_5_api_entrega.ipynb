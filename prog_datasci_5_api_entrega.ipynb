{
 "cells": [
  {
   "cell_type": "markdown",
   "metadata": {},
   "source": [
    "<div style=\"width: 100%; clear: both;\">\n",
    "    <div style=\"float: left; width: 50%;\">\n",
    "       <img src=\"http://www.uoc.edu/portal/_resources/common/imatges/marca_UOC/UOC_Masterbrand.jpg\", align=\"left\">\n",
    "    </div>\n",
    "</div>\n",
    "\n",
    "<div style=\"float: right; width: 50%;\">\n",
    "    <p style=\"margin: 0; padding-top: 22px; text-align:right;\">22.501 · Fundamentos de Programación</p>\n",
    "    <p style=\"margin: 0; text-align:right;\">Grado en Ciencia de Datos Aplicada</p>\n",
    "    <p style=\"margin: 0; text-align:right; padding-button: 100px;\">Estudios de Informática, Multimedia y Telecomunicación</p>\n",
    "</div>\n",
    "\n",
    "</div>\n",
    "<div style=\"width: 100%; clear: both;\">\n",
    "<div style=\"width:100%;\">&nbsp;</div>"
   ]
  },
  {
   "cell_type": "markdown",
   "metadata": {},
   "source": [
    "Fundamentos de Programación\n",
    "============================\n",
    "\n",
    "PAC 5 - Enunciado\n",
    "-----------------------------------------------------\n",
    "\n",
    "En este Notebook se encontraréis el conjunto de actividades evaluables como PEC de la asignatura. Veréis que cada una de ellas tiene asociada una puntuación, que indica el peso que tiene la actividad sobre la nota final de la PEC. Adicionalmente, hay un ejercicio opcional, que no tiene puntuación dentro de la PEC, pero que se valora al final del semestre de cara a conceder las matrículas de honor y redondear las notas finales. Podréis sacar la máxima nota de la PAC sin necesidad de hacer este ejercicio. El objetivo de este ejercicio es que sirva como pequeño reto para los estudiantes que quieran profundizar en el contenido de la asignatura.\n",
    "\n",
    "Veréis que todas las actividades de la PEC tienen una etiqueta, que indica los recursos necesarios para llevarla a cabo. Hay tres posibles etiquetas:\n",
    "\n",
    "* <span style=\"font-family: Courier New; background-color: #82b74b; color: #000000; padding: 3px; \">NM</span> **Sólo materiales**: las herramientas necesarias para realizar la actividad se pueden encontrar en los materiales de la asignatura.\n",
    "\n",
    "* <span style = \"font-family: Courier New; background-color: #ffcc5c; color: #000000; padding: 3px; \">EG</span> **Consulta externa guiada**: la actividad puede requerir hacer uso de herramientas que no se encuentran en los materiales de la asignatura, pero el enunciado contiene indicaciones de dónde o cómo encontrar la información adicional necesaria para resolver la actividad.\n",
    "\n",
    "* <span style = \"font-family: Courier New; background-color: #f2ae72; color: #000000; padding: 3px;\">EI</span> **Consulta externa independiente**: la actividad puede requerir hacer uso de herramientas que no se encuentran en los materiales de la asignatura, y el enunciado puede no incluir la descripción de dónde o cómo encontrar esta información adicional. Será necesario que el estudiante busque esta información utilizando los recursos que se han explicado en la asignatura.\n",
    "\n",
    "Es importante notar que estas etiquetas no indican el nivel de dificultad del ejercicio, sino únicamente la necesidad de consulta de documentación externa para su resolución. Además, recordad que las **etiquetas son informativas**, pero podréis consultar referencias externas en cualquier momento (aunque no se indique explícitamente) o puede ser que podáis hacer una actividad sin consultar ningún tipo de documentación. Por ejemplo, para resolver una actividad que sólo requiera los materiales de la asignatura, puedéis consultar referencias externas si queréis, ya sea tanto para ayudaros en la resolución como para ampliar el conocimiento!\n",
    "\n",
    "En cuanto a la consulta de documentación externa en la resolución de los ejercicios, recordad **citar siempre la bibliografía utilizada** para resolver cada actividad.\n",
    "\n",
    "---"
   ]
  },
  {
   "cell_type": "markdown",
   "metadata": {},
   "source": [
    "## Ejercicios para la PEC\n",
    "\n",
    "A continuación encontraréis los ejercicios que se deben completar en esta PEC y que forman parte de la evaluación de esta unidad."
   ]
  },
  {
   "cell_type": "markdown",
   "metadata": {},
   "source": [
    "### Ejercicio 1\n",
    " "
   ]
  },
  {
   "cell_type": "markdown",
   "metadata": {},
   "source": [
    "La respuesta recibida después de realizar una petición a una web API http es un objeto que contiene, entre otros, los siguientes atributos: **status.code**, **content** y **headers**.  Describe qué información contiene cada uno de los atributos anteriormente enumerados y pon un ejemplo de cada uno. \n",
    "\n",
    "Recordad que hay que citar las referencias consultadas para responder la pregunta, y que la respuesta que proporcionéis debe ser original (redactada por vosotros mismos, después de haber leído y entendido las referencias que consideréis oportunas). \n",
    "\n",
    "**(1 punto)** <span style=\"font-family: Courier New; background-color: #82b74b; color: #000000; padding: 3px; \">NM</span>"
   ]
  },
  {
   "cell_type": "code",
   "execution_count": 21,
   "metadata": {},
   "outputs": [],
   "source": [
    "# Respuesta"
   ]
  },
  {
   "cell_type": "markdown",
   "metadata": {},
   "source": [
    "### Ejercicio 2"
   ]
  },
  {
   "cell_type": "markdown",
   "metadata": {},
   "source": [
    "Implemente una o varias funciones para obtener la **secuencia de ADN** del organismo *Homo sapiens* del cromosoma mitocondrial  (**chrM**) desde la posición 10000 hasta 10050 por la referencia **hg38**. \n",
    "\n",
    "Para ello utilice la API de [UCSC](https://genome.ucsc.edu/goldenPath/help/api.html). \n",
    "\n",
    "\n",
    "\n",
    "**Nota**: El genoma de una célula es un repositorio de secuencias de ADN (ácido desoxiribonucleico) empaquetado en forma de cromosoma. El ADN es un ácido nucleico que contiene la información genética que dirige el desarrollo y funcionamiento de todos los seres vivos. El ADN puede entenderse como una secuencia de nucleótidos (A,C,T y G) de cierta longitud. Este material hereditario codifica los genes que, una vez descifrados, son indispensables por la síntesis de las proteínas.\n",
    "\n",
    "Un genoma de referencia es la representación de la secuencia de ADN del genoma de una especie. En el caso del organismo Homo sapiens, existen diferentes versiones del genoma de referencia. La última versión, hg38, se publicó en 2014 y es la más detallada y precisa.\n",
    "\n",
    "UCSC es un navegador de la Universidad de Santa Cruz de California que ofrece acceso a datos de secuencias de genomas y su correspondiente anotación (genes, mRNAs, CpG,..) de una gran variedad de organismos, vertebrados e invertebrados.\n",
    "\n",
    "Referencia: [Genómica Computacional](https://www.editorialuoc.com/genomica-computacional). Enrique Blanco. Barcelona, Universidad Abierta de Cataluña, 2011.\n",
    "\n",
    "**Importante**: No es necesario entender toda la información que podemos obtener a través de la API del UCSC. Fíjese con lo que le pide el enunciado (prestando especial atención a las palabras clave en negrita), y revise los ejemplos de acceso a datos que hay en la web de la [UCSC](https://genome.ucsc.edu/goldenPath/help/api.html).\n",
    "\n",
    "**(1,5 puntos)** <span style=\"font-family: Courier New; background-color: #ffcc5c; color: #000000; padding: 2px; \">EG</span>"
   ]
  },
  {
   "cell_type": "code",
   "execution_count": null,
   "metadata": {},
   "outputs": [],
   "source": [
    "# Respuesta "
   ]
  },
  {
   "cell_type": "markdown",
   "metadata": {},
   "source": [
    "### Ejercicio 3"
   ]
  },
  {
   "cell_type": "markdown",
   "metadata": {},
   "source": [
    "Queremos conocer los nombres más frecuentes de los recién nacidos en Barcelona por sexo entre los años 2000 y 2022, ambos incluidos. \n",
    "\n",
    "Implementad una función de dos parámetros:\n",
    "- **id** : identificador del recurso, \n",
    "- **year** : año de consulta,\n",
    "\n",
    "que devuelva una lista con el nombre más frecuente para niña y para niño en dicho año.  Usa la función para obtener lo siguiente: \n",
    "\n",
    "a) Una lista con los 25 nombres más frecuentes de los recién nacidos en Barcelona por sexo, para cada uno delos los años 2000 y 2022, ambos incluidos. \n",
    "\n",
    "\n",
    "Para realizar el ejercicio consultad el [portal de datos abiertos del Ayuntamiento de Barcelona](https://opendata-ajuntament.barcelona.cat/es/).\n",
    "\n",
    "\n",
    "\n",
    "\n",
    "**Nota 1**: Consultad como realizar las consultas mediante la API en [la pestaña de Desarrolladores](https://opendata-ajuntament.barcelona.cat/es/desenvolupadors), en especial la sección de APIs. \n",
    "\n",
    "**Nota 2**: Algunos nombres pueden contener espacios.  Deberéis eliminar dicho espacio para realizar el contaje correctamente.\n",
    "\n",
    "\n",
    "**(1,5 puntos)** <span style=\"font-family: Courier New; background-color: #ffcc5c; color: #000000; padding: 2px; \">EG</span>"
   ]
  },
  {
   "cell_type": "code",
   "execution_count": 25,
   "metadata": {},
   "outputs": [],
   "source": [
    "# Respuesta"
   ]
  },
  {
   "cell_type": "markdown",
   "metadata": {},
   "source": [
    "b) Crea una lista ordenada de mayor a menor, a partir de la lista obtenida en el apartado a), según el número de veces que dicho nombre ha sido utilizado.\n",
    "\n",
    "\n",
    "\n",
    "**(0,5 puntos)** <span style=\"font-family: Courier New; background-color: #82b74b; color: #000000; padding: 3px; \">NM</span>\n",
    "\n"
   ]
  },
  {
   "cell_type": "code",
   "execution_count": null,
   "metadata": {},
   "outputs": [],
   "source": [
    "# Respuesta"
   ]
  },
  {
   "cell_type": "markdown",
   "metadata": {},
   "source": [
    "### Ejercicio 4"
   ]
  },
  {
   "cell_type": "markdown",
   "metadata": {},
   "source": [
    "Para cada una de las siguientes direcciones:\n",
    "\n",
    "1. https://zombo.com\n",
    "1. https://www.pixelsfighting.com\n",
    "1. http://hasthelargehadroncolliderdestroyedtheworldyet.com\n",
    "1. https://api.fbi.gov/wanted/v1/list\n",
    "\n",
    "Llama a cada dirección con `query.get()`, y muestra:\n",
    "\n",
    "- El código de `status.code`.\n",
    "- Si aplica, el contenido de la dirección web, limitando la salida hasta 500 caracteres\n",
    "\n",
    "Accede a cada una de las direcciones con tu ordenador y observa el contenido en el navegador con el texto de la web. ¿Cuál es la diferencia en el contenido de la cuarta dirección respecto a las tres primeras?\n",
    "\n",
    "**(1.5  puntos)** <span style=\"font-family: Courier New; background-color: #82b74b; color: #000000; padding: 3px; \">NM</span>"
   ]
  },
  {
   "cell_type": "code",
   "execution_count": null,
   "metadata": {},
   "outputs": [],
   "source": [
    "# Respuesta"
   ]
  },
  {
   "cell_type": "markdown",
   "metadata": {},
   "source": [
    "### Ejercicio 5\n",
    "\n",
    "En este ejercicio lucharemos un poco contra el aburrimiento.  Hay una API para justamente esto en la dirección https://www.boredapi.com, podéis ver la documentación de la API en https://www.boredapi.com/documentation. \n",
    "\n",
    "\n",
    "Por ejemplo, dada una llamada a esta dirección, obtenemos una actividad de forma aleatoria: \n",
    "\n",
    "| Call | Description |\n",
    "|: ---------: |: ------------------------------------ -------------------------------------------------- ------------ |\n",
    "| http://www.boredapi.com/api/activity/ | Random activity |\n",
    "\n",
    "\n",
    "\n",
    "a) Usa requests para llamar a la dirección anterior 100 veces. ¿Cuántas actividades aparecen para dos o más participantes? \n",
    "\n",
    "\n",
    "**(1.5 puntos)** <span style=\"font-family: Courier New; background-color: #82b74b; color: #000000; padding: 3px; \">NM</span>"
   ]
  },
  {
   "cell_type": "code",
   "execution_count": null,
   "metadata": {},
   "outputs": [],
   "source": [
    "# Respuesta"
   ]
  },
  {
   "cell_type": "markdown",
   "metadata": {},
   "source": [
    "b) La documentación de la API indica que es posible hacer búsquedas incluyendo parámetros, como por ejemplo vía la ruta: \n",
    "\n",
    "> /api/activity?minprice=:minprice&maxprice=:maxprice\n",
    "\n",
    "Escribe una función llamada `fun` que:\n",
    "\n",
    "1. Tenga dos parámetros de entrada (`minprice`, `maxprice`).\n",
    "\n",
    "2. Devuelva un diccionario solo con los elementos `price`, `activity` y `type`. \n",
    "\n",
    "Llama a esta función otras 100 veces y comprueba que todos los precios se ajustan a los valores de la llamada. \n",
    "\n",
    "**(1 punto)** <span style=\"font-family: Courier New; background-color: #82b74b; color: #000000; padding: 3px; \">NM</span>"
   ]
  },
  {
   "cell_type": "code",
   "execution_count": 7,
   "metadata": {},
   "outputs": [],
   "source": [
    "# Respuesta"
   ]
  },
  {
   "cell_type": "markdown",
   "metadata": {},
   "source": [
    "### Ejercicio 6\n",
    "\n",
    "En este ejercicio haremos un poco de *Fun with numbers*. Hay una API para *number-facts* (curiosidades sobre números) en la base de datos http://numbersapi.com. Esta API tiene unos puntos de acceso en los que podemos interrogar la API sobre diferentes curiosidades sobre números enteros y fechas:\n",
    "\n",
    "Dado un número $N$, o una fecha con día $D$ y más $M$, la llamada a las siguientes direcciones proporcionan la siguiente información:\n",
    "\n",
    "\n",
    "| Call | Description |\n",
    "|:---------|:-------------------------|\n",
    "| Http: //numbersapi.com/N | Trivia about N |\n",
    "| Http: //numbersapi.com/N/math | Mathematical facts about N |\n",
    "| Http: //numbersapi.com/M/D/date | Facts about a particular date |\n",
    "| Http: //numbersapi.com/N/year | Facts about a particular date |\n",
    "\n",
    "\n",
    "Así, para obtener el *fact* número $1$, debemos construir una solicitud a la  *url*:\n",
    "\n",
    "- *http: //numbersapi.com/1*\n",
    "\n",
    "El objeto que se nos devolverá, contendrá la información indicada en la tabla en formato de texto directo.\n",
    "\n",
    "a) Construye una función que tenga de argumento dos año $AI$ y $AF$. La función debe recoger los *facts* desde el año $AI$ hasta el año $AF$ ambos incluidos, y devolver un diccionario donde las claves sean el año y los valores sean el *fact* sobre ese año.\n",
    "\n",
    "\n",
    "**(1 punto)** <span style=\"font-family: Courier New; background-color: #82b74b; color: #000000; padding: 3px; \">NM</span>"
   ]
  },
  {
   "cell_type": "code",
   "execution_count": null,
   "metadata": {},
   "outputs": [],
   "source": [
    "# Respuesta"
   ]
  },
  {
   "cell_type": "markdown",
   "metadata": {},
   "source": [
    "b) Usa esta función para mostrar por pantalla los *facts* entre 1915 y 1925, ambos incluidos.\n",
    "\n",
    "**(0.5 puntos)** <span style=\"font-family: Courier New; background-color: #82b74b; color: #000000; padding: 3px; \">NM</span>"
   ]
  },
  {
   "cell_type": "code",
   "execution_count": null,
   "metadata": {},
   "outputs": [],
   "source": [
    "# Respuesta"
   ]
  },
  {
   "cell_type": "markdown",
   "metadata": {},
   "source": [
    "### Ejercicio Opcional\n",
    "\n",
    "\n",
    "El  New Mexico Tech Seismological Observatory almacena un registro de eventos sísmicos recientes. Este registro está disponible, por ejemplo en esta web. \n",
    "\n",
    "- https://geoinfo.nmt.edu/nmtso/events/home.cfml \n",
    "\n",
    "\n",
    "\n",
    "Usa `scrappy` para mostrar la información del listado por pantalla de las \"Date+Time (UTC)\" de cada evento de la página.\n",
    "\n",
    "\n",
    "\n",
    "Para ello:\n",
    "\n",
    "- Utiliza el tutorial de Scrappy para encontrar un `xpath` que contenga la información requerida.\n",
    "- Muestra la información requerida en forma de diccionario.\n",
    "\n",
    "<span style=\"font-family: Courier New; background-color: #f2ae72; color: #000000; padding: 3px; \">EI</span>\n",
    "\n",
    "**Nota**: si la ejecución del _crawler_ os devuelve un error `ReactorNotRestartable`, reiniciad el núcleo del Notebook (en el menú: `Kernel` - `Restart`). \n",
    "**Nota**: si scrapy no está instalado, lo podéis instalar vía\n",
    "\n",
    "\n",
    "`!pip install scrapy`\n"
   ]
  },
  {
   "cell_type": "code",
   "execution_count": null,
   "metadata": {},
   "outputs": [],
   "source": [
    "# Respuesta"
   ]
  }
 ],
 "metadata": {
  "kernelspec": {
   "display_name": "Python 3",
   "language": "python",
   "name": "python3"
  },
  "language_info": {
   "codemirror_mode": {
    "name": "ipython",
    "version": 3
   },
   "file_extension": ".py",
   "mimetype": "text/x-python",
   "name": "python",
   "nbconvert_exporter": "python",
   "pygments_lexer": "ipython3",
   "version": "3.7.6"
  }
 },
 "nbformat": 4,
 "nbformat_minor": 1
}
