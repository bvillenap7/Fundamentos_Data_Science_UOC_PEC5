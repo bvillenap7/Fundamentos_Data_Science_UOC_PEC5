{
 "metadata": {
  "name": "",
  "signature": "sha256:55770ecd07f18e2402a8ba3e498426d09731b2cbe8ab6b5cbab8b913bf2652d2"
 },
 "nbformat": 3,
 "nbformat_minor": 0,
 "worksheets": [
  {
   "cells": [
    {
     "cell_type": "heading",
     "level": 1,
     "metadata": {},
     "source": [
      "Programaci\u00f3n para *Data Science*"
     ]
    },
    {
     "cell_type": "markdown",
     "metadata": {},
     "source": [
      "Unidad 5: Adquisici\u00f3n de datos en Python\n",
      "------------------------------------------------------\n",
      "\n",
      "## Instrucciones de uso\n",
      "\n",
      "A continuaci\u00f3n se presentar\u00e1n explicaciones y ejemplos de adquisici\u00f3n de datos en Python. Recordad que pod\u00e9is ir ejecutando los ejemplos para obtener sus resultados.\n",
      "\n",
      "## Introducci\u00f3n\n",
      "\n",
      "Los procesos de adquisici\u00f3n de datos son muy diversos. En esta unidad, veremos ejemplos de adquisici\u00f3n de datos de Internet con tres m\u00e9todos diferentes:\n",
      "\n",
      "- Descarga directa.\n",
      "- Petici\u00f3n a APIs de terceros.\n",
      "- *Web crawling*.\n",
      "\n",
      "Por lo que respeta a la interacci\u00f3n con APIs de terceros, repasaremos dos alternativas, la construcci\u00f3n manual de las peticiones HTTP y el uso de librer\u00edas Python. \n",
      "\n",
      "Con relaci\u00f3n al *web crawling*, veremos c\u00f3mo utilizar la librer\u00eda [Scrapy](https://scrapy.org/) para construir un peque\u00f1o *web crawler* que capture datos de nuestro inter\u00e9s. \n"
     ]
    },
    {
     "cell_type": "markdown",
     "metadata": {},
     "source": [
      "### Primeros pasos\n",
      "\n",
      "En esta unidad trabajaremos en varias ocasiones con datos en formato JSON (recordad que ya hemos introducido el formato JSON en la xwiki). \n",
      "\n",
      "\n"
     ]
    },
    {
     "cell_type": "markdown",
     "metadata": {},
     "source": [
      "La librer\u00eda json de Python nos ofrece algunas funciones muy \u00fatiles para trabajar en este formato. Por ejemplo, podemos obtener la representaci\u00f3n JSON de objetos Python o crear objetos Python a partir de su representaci\u00f3n en JSON."
     ]
    },
    {
     "cell_type": "code",
     "collapsed": false,
     "input": [
      "# Construimos un diccionario de ejemplo y mostramos el tipo de datos y el contenido de la variable\n",
      "diccionario_ejemplo = {\"nombre\": \"Yann\", \"apellidos\": {\"apellido1\": \"LeCun\", \"apellido2\": \"-\"}, \"edad\": 56}\n",
      "print(type(diccionario_ejemplo))\n",
      "print(diccionario_ejemplo)\n",
      "\n",
      "# Construimos una lista de ejemplo y mostramos el tipo de datos y el contenido de la variable\n",
      "lista_ejemplo = [1, 2, 3]\n",
      "print(type(lista_ejemplo))\n",
      "print(lista_ejemplo)"
     ],
     "language": "python",
     "metadata": {},
     "outputs": [
      {
       "output_type": "stream",
       "stream": "stdout",
       "text": [
        "<type 'dict'>\n",
        "{'apellidos': {'apellido2': '-', 'apellido1': 'LeCun'}, 'nombre': 'Yann', 'edad': 56}\n",
        "<type 'list'>\n",
        "[1, 2, 3]\n"
       ]
      }
     ],
     "prompt_number": 5
    },
    {
     "cell_type": "code",
     "collapsed": false,
     "input": [
      "# Importamos la librer\u00eda json\n",
      "import json\n",
      "\n",
      "# Mostramos la representaci\u00f3n json del diccionario\n",
      "json_dict = json.dumps(diccionario_ejemplo)\n",
      "print type(json_dict)\n",
      "print json_dict\n",
      "\n",
      "# Mostramos la representaci\u00f3n json de la lista\n",
      "json_list = json.dumps(lista_ejemplo)\n",
      "print type(json_list)\n",
      "print json_list"
     ],
     "language": "python",
     "metadata": {},
     "outputs": [
      {
       "output_type": "stream",
       "stream": "stdout",
       "text": [
        "<type 'str'>\n",
        "{\"apellidos\": {\"apellido2\": \"-\", \"apellido1\": \"LeCun\"}, \"nombre\": \"Yann\", \"edad\": 56}\n",
        "<type 'str'>\n",
        "[1, 2, 3]\n"
       ]
      }
     ],
     "prompt_number": 6
    },
    {
     "cell_type": "markdown",
     "metadata": {},
     "source": [
      "Fijaos que, en ambos casos, obtenemos una cadena de caracteres que nos representa, en formato JSON, los objetos Python. Este proceso se conoce como **serializar** el objeto.\n",
      "\n",
      "Tambi\u00e9n podemos realizar el proceso inverso (conocido como **deserializar**), creando objetos Python (por ejemplo, listas o diccionarios) a partir de cadenas de texto en formato JSON.\n"
     ]
    },
    {
     "cell_type": "code",
     "collapsed": false,
     "input": [
      "# Deserializamos la cadena json_dict\n",
      "diccionario_ejemplo2 = json.loads(json_dict)\n",
      "print(type(diccionario_ejemplo2))\n",
      "print(diccionario_ejemplo2)\n",
      "\n",
      "# Deserializamos la cadena json_list\n",
      "lista_ejemplo2 = json.loads(json_list)\n",
      "print(type(lista_ejemplo2))\n",
      "print(lista_ejemplo2)"
     ],
     "language": "python",
     "metadata": {},
     "outputs": [
      {
       "output_type": "stream",
       "stream": "stdout",
       "text": [
        "<type 'dict'>\n",
        "{u'apellidos': {u'apellido2': u'-', u'apellido1': u'LeCun'}, u'nombre': u'Yann', u'edad': 56}\n",
        "<type 'list'>\n",
        "[1, 2, 3]\n"
       ]
      }
     ],
     "prompt_number": 7
    },
    {
     "cell_type": "markdown",
     "metadata": {},
     "source": [
      "Para mejorar la legibilidad de los datos que obtendremos de las APIs, definiremos una funci\u00f3n que mostrar\u00e1 cadenas JSON por pantalla formateadas para mejorar la lectura. La funci\u00f3n aceptar\u00e1 tanto cadenas de car\u00e1cteres con contenido JSON como objetos Python, y mostrar\u00e1 el contenido por pantalla.\n",
      "\n",
      "Adem\u00e1s, la funci\u00f3n recibir\u00e1 un par\u00e1metro opcional que nos permitir\u00e1 indicar el n\u00famero m\u00e1ximo de l\u00edneas a mostrar. As\u00ed, podremos usar la funci\u00f3n para visualizar las primeras l\u00edneas de un JSON largo, sin tener que mostrar el JSON completo por pantalla."
     ]
    },
    {
     "cell_type": "code",
     "collapsed": false,
     "input": [
      "# Define la funci\u00f3n json_print, que tiene un par\u00e1metro obligatorio json_data y un par\u00e1metro opcional limit\n",
      "# y no devuelve ning\u00fan valor.\n",
      "# La funci\u00f3n muestra por pantalla el contenido de la variable json_data en formato JSON, limitando el n\u00famero \n",
      "# de l\u00edneas a mostrar si se incluye el par\u00e1metro limit\n",
      "def json_print(json_data, limit=None):\n",
      "    if isinstance(json_data, (str, unicode)):\n",
      "        json_data = json.loads(json_data)\n",
      "    nice = json.dumps(json_data, sort_keys=True, indent=3, separators=(',', ': '))\n",
      "    print \"\\n\".join(nice.split(\"\\n\")[0:limit])\n",
      "    if limit is not None:\n",
      "        print \"[...]\"\n",
      "    "
     ],
     "language": "python",
     "metadata": {},
     "outputs": [],
     "prompt_number": 8
    },
    {
     "cell_type": "markdown",
     "metadata": {},
     "source": [
      "Veamos un ejemplo del resultado de utilizar la funci\u00f3n que acabamos de definir."
     ]
    },
    {
     "cell_type": "code",
     "collapsed": false,
     "input": [
      "# Muestra el valor de la variable json_ejemplo con la funci\u00f3n print\n",
      "json_ejemplo = '{\"nombre\": \"Yann\", \"apellidos\": {\"apellido1\": \"LeCun\", \"apellido2\": \"-\"}, \"edad\": 56}'\n",
      "print json_ejemplo"
     ],
     "language": "python",
     "metadata": {},
     "outputs": [
      {
       "output_type": "stream",
       "stream": "stdout",
       "text": [
        "{\"nombre\": \"Yann\", \"apellidos\": {\"apellido1\": \"LeCun\", \"apellido2\": \"-\"}, \"edad\": 56}\n"
       ]
      }
     ],
     "prompt_number": 79
    },
    {
     "cell_type": "code",
     "collapsed": false,
     "input": [
      "# Muestra el valor de la variable json_ejemplo con la funci\u00f3n json_print que acabamos de definir\n",
      "json_print(json_ejemplo)"
     ],
     "language": "python",
     "metadata": {},
     "outputs": [
      {
       "output_type": "stream",
       "stream": "stdout",
       "text": [
        "{\n",
        "   \"apellidos\": {\n",
        "      \"apellido1\": \"LeCun\",\n",
        "      \"apellido2\": \"-\"\n",
        "   },\n",
        "   \"edad\": 56,\n",
        "   \"nombre\": \"Yann\"\n",
        "}\n"
       ]
      }
     ],
     "prompt_number": 80
    },
    {
     "cell_type": "code",
     "collapsed": false,
     "input": [
      "# Mostramos \u00fanicamente las 3 primeras l\u00edneas\n",
      "json_print(json_ejemplo, 3)"
     ],
     "language": "python",
     "metadata": {},
     "outputs": [
      {
       "output_type": "stream",
       "stream": "stdout",
       "text": [
        "{\n",
        "   \"apellidos\": {\n",
        "      \"apellido1\": \"LeCun\",\n",
        "[...]\n"
       ]
      }
     ],
     "prompt_number": 81
    },
    {
     "cell_type": "markdown",
     "metadata": {},
     "source": [
      "## Descarga directa de datos\n",
      "\n",
      "La descarga directa del conjunto de datos es quiz\u00e1s el m\u00e9todo m\u00e1s sencillo de adquisici\u00f3n de datos y consiste en descargar un fichero con los datos de inter\u00e9s ya recopilados por alg\u00fan otro analista. De hecho, en la unidad anterior ya hemos usado este m\u00e9todo para adquirir el fichero con los datos sobre los personajes de c\u00f3mic de Marvel. Una vez descargado el fichero, el procedimiento para cargarlo en Python depender\u00e1 del formato concreto (ya hemos visto un ejemplo de carga de datos desde un fichero .csv).\n",
      "\n",
      "Algunos de los sitios web donde pod\u00e9is encontrar conjuntos de datos para analizar son:\n",
      "- [Open Data gencat](http://dadesobertes.gencat.cat/en/), el portal de datos abiertos de la Generalitat.\n",
      "- [datos.gov.es](http://datos.gob.es/es/catalogo), el cat\u00e1logo de conjuntos de datos del Gobierno de Espa\u00f1a.\n",
      "- [European Data Sources](https://data.europa.eu/), el portal de datos abiertos de la Uni\u00f3n Europea.\n",
      "- [Mark Newman network datasets](http://www-personal.umich.edu/~mejn/netdata/), conjuntos de datos en forma de red recopilados por Mark Newman.\n",
      "- [Stanford Large Network Dataset Collection](http://snap.stanford.edu/data/), otra recopilaci\u00f3n de conjuntos de datos en forma de red, en este caso creado Jure Leskovec.\n",
      "- [SecRepo.com](http://www.secrepo.com/), datos relacionados con la seguridad.\n",
      "- [AWS Public Datasets](https://aws.amazon.com/public-datasets/), conjuntos de datos recopilados y hospedados por Amazon.\n",
      "- [UC Irvine Machine Learning Repository](http://archive.ics.uci.edu/ml/), datos recopilados por un grupo de investigaci\u00f3n de la Universidad de California en Irvine.\n",
      "- El [repositorio de Five Thirty Eight](https://github.com/fivethirtyeight), que recoge datos utilizados en art\u00edculos de la publicaci\u00f3n y que ya hemos visto en la unidad anterior.\n",
      "\n"
     ]
    },
    {
     "cell_type": "markdown",
     "metadata": {},
     "source": [
      "## Uso de APIs de terceros"
     ]
    },
    {
     "cell_type": "markdown",
     "metadata": {},
     "source": [
      "### Accediendo a APIs manualmente\n",
      "\n",
      "Podemos utilizar la librer\u00eda de Python [Requests](http://docs.python-requests.org/) para realizar peticiones a web APIs de manera manual. Para ello, tendremos que acceder a la documentaci\u00f3n de la API con la que queramos actuar, construir manualmente las peticiones para obtener la informaci\u00f3n deseada y procesar tambi\u00e9n manualmente la respuesta recibida.\n",
      "\n",
      "Veamos un ejemplo de petici\u00f3n HTTP a una API p\u00fablica. El sitio http://postcodes.io/ ofrece una API de geolocalizaci\u00f3n sobre c\u00f3digos postales en el Reino Unido. Leyendo la documentaci\u00f3n, podemos ver que tiene un m\u00e9todo GET con la URL http://api.postcodes.io/postcodes/:c\u00f3digo-postal que nos retorna informaci\u00f3n del c\u00f3digo postal especificado. "
     ]
    },
    {
     "cell_type": "code",
     "collapsed": false,
     "input": [
      "# Importamos la librer\u00eda\n",
      "import requests\n",
      "\n",
      "# Realizamos una petici\u00f3n get a la API, preguntando sobre el c\u00f3digo postal \"E98 1TT\"\n",
      "# Notad que el car\u00e1cter espacio se codifica como %20 en la URL\n",
      "response = requests.get('http://api.postcodes.io/postcodes/E98%201TT')\n",
      "\n",
      "# Mostramos la respuesta recibida\n",
      "print \"C\u00f3digo de estado de la respuesta: \", response.status_code, \"\\n\"\n",
      "print \"Cabecera de la respuesta: \"\n",
      "json_print(dict(response.headers))\n",
      "print \"\\nCuerpo de la respuesta: \"\n",
      "json_print(response.content)"
     ],
     "language": "python",
     "metadata": {},
     "outputs": [
      {
       "output_type": "stream",
       "stream": "stdout",
       "text": [
        "C\u00f3digo de estado de la respuesta:  200 \n",
        "\n",
        "Cabecera de la respuesta: \n",
        "{\n",
        "   \"access-control-allow-origin\": \"*\",\n",
        "   \"connection\": \"keep-alive\",\n",
        "   \"content-length\": \"752\",\n",
        "   \"content-type\": \"application/json; charset=utf-8\",\n",
        "   \"date\": \"Tue, 28 Mar 2017 15:52:42 GMT\",\n",
        "   \"etag\": \"W/\\\"2f0-bkVDsc0P0z4okeXr61/0cr5ekOU\\\"\",\n",
        "   \"server\": \"nginx/1.11.5\",\n",
        "   \"x-gnu\": \"Michael J Blanchard\"\n",
        "}\n",
        "\n",
        "Cuerpo de la respuesta: \n",
        "{\n",
        "   \"result\": {\n",
        "      \"admin_county\": null,\n",
        "      \"admin_district\": \"Tower Hamlets\",\n",
        "      \"admin_ward\": \"St Katharine's & Wapping\",\n",
        "      \"ccg\": \"NHS Tower Hamlets\",\n",
        "      \"codes\": {\n",
        "         \"admin_county\": \"E99999999\",\n",
        "         \"admin_district\": \"E09000030\",\n",
        "         \"admin_ward\": \"E05009330\",\n",
        "         \"ccg\": \"E38000186\",\n",
        "         \"nuts\": \"UKI42\",\n",
        "         \"parish\": \"E43000220\"\n",
        "      },\n",
        "      \"country\": \"England\",\n",
        "      \"eastings\": 534427,\n",
        "      \"european_electoral_region\": \"London\",\n",
        "      \"incode\": \"1TT\",\n",
        "      \"latitude\": 51.5080245566444,\n",
        "      \"longitude\": -0.0643935343625153,\n",
        "      \"lsoa\": \"Tower Hamlets 026B\",\n",
        "      \"msoa\": \"Tower Hamlets 026\",\n",
        "      \"nhs_ha\": \"London\",\n",
        "      \"northings\": 180564,\n",
        "      \"nuts\": \"Tower Hamlets\",\n",
        "      \"outcode\": \"E98\",\n",
        "      \"parish\": \"Tower Hamlets, unparished area\",\n",
        "      \"parliamentary_constituency\": \"Poplar and Limehouse\",\n",
        "      \"postcode\": \"E98 1TT\",\n",
        "      \"primary_care_trust\": \"Tower Hamlets\",\n",
        "      \"quality\": 1,\n",
        "      \"region\": \"London\"\n",
        "   },\n",
        "   \"status\": 200\n",
        "}\n"
       ]
      }
     ],
     "prompt_number": 15
    },
    {
     "cell_type": "markdown",
     "metadata": {},
     "source": [
      "Como podemos ver, el estado de la respuesta es 200, lo que [nos indica](https://www.w3.org/Protocols/rfc2616/rfc2616-sec10.html) que la petici\u00f3n se ha procesado correctamente. Entre otros campos, la cabecera de la respuesta incluye el tipo de contenido que encontraremos en el cuerpo, que ser\u00e1 un texto en formato JSON. Por \u00faltimo, el cuerpo de la respuesta incluye datos sobre el c\u00f3digo postal consultado. Por ejemplo, podemos ver que corresponde a Inglaterra (concretamente, a la ciudad de Londres).\n",
      "\n",
      "Notad que podemos visualizar tambi\u00e9n la respuesta accediendo a la [misma URL](http://api.postcodes.io/postcodes/E98%201TT) con un navegador web. En este caso, se pueden instalar extensiones espec\u00edficas que gestionen la visualizaci\u00f3n mejorada del JSON retornado (por ejemplo, [JSONView](https://chrome.google.com/webstore/detail/jsonview/chklaanhfefbnpoihckbnefhakgolnmc) para Chrome o Firefox)."
     ]
    },
    {
     "cell_type": "markdown",
     "metadata": {},
     "source": [
      "### Accediendo a APIs con librer\u00edas de Python\n",
      "\n",
      "Aunque podr\u00edamos usar este m\u00e9todo para interactuar con cualquier API HTTP, lo cierto es que cuando la complejidad de las funciones disponibles incrementa (por ejemplo, al incluir autenticaci\u00f3n) puede no resultar muy pr\u00e1ctico. Cuando queramos acceder a APIs populares, normalmente encontraremos que ya existen librer\u00edas de Python dise\u00f1adas para interactuar con las estas APIs, de manera que podremos obtener datos sin necesidad de manejar las peticiones HTTP manualmente.\n",
      "\n",
      "Google maps dispone de un [conjunto de APIs](https://developers.google.com/maps/) muy populares que permiten, entre otros, obtener las coordenadas geogr\u00e1ficas de una direcci\u00f3n, conseguir indicaciones para desplazarse de un punto a otro, o adquirir datos sobre la elevaci\u00f3n del terreno en cualquier punto del mundo. La librer\u00eda [googlemaps](https://googlemaps.github.io/google-maps-services-python/docs/) integra peticiones a la API de google en c\u00f3digo Python.\n",
      "\n",
      "Para usar las APIs de Google maps, es necesario registrar un usuario y obtener una clave de autenticaci\u00f3n, que adjuntaremos a las peticiones que se realicen contra la API. Adem\u00e1s, tendremos que especificar qu\u00e9 APIs concretas vamos a usar. \n",
      "\n",
      "Para el siguiente ejemplo, realizaremos estos tres pasos para obtener la clave de autenticaci\u00f3n:\n",
      "\n",
      "1. Crearemos un proyecto en la plataforma de Google Developers.\n",
      "2. Activaremos las APIs deseadas.\n",
      "3. Solicitaremos credenciales de acceso.\n",
      "\n",
      "En primer lugar crearemos un nuevo proyecto en el entorno de desarrolladores de google. Nos dirigiremos a:\n",
      "https://console.developers.google.com/apis/library\n",
      "y haremos clic sobre _Project: New project_. Asignaremos un nombre cualquiera al proyecto y confirmaremos la creaci\u00f3n pulsando _Create_.\n",
      "\n",
      "Una vez creado el proyecto, activaremos las APIs que usaremos despu\u00e9s. Primero, seleccionaremos la API de geocodificaci\u00f3n ([_Google Maps Geocoding API_](https://console.developers.google.com/apis/api/geocoding_backend)), que se encuentra en la categor\u00eda _Google Maps APIs_ (es posible que teng\u00e1is que pulsar sobre el bot\u00f3n _more_ para ver la lista completa de APIs). Haremos click sobre _Enable_ para activarla.\n",
      "\n",
      "Repetiremos el proceso para la API de direcciones ([_Google Maps Directions API_](https://console.developers.google.com/apis/api/directions_backend)), que se encuentra tambi\u00e9n en la categor\u00eda _Google Maps APIs_.\n",
      "\n",
      "Finalmente, clickaremos sobre el men\u00fa _Credentials_, indicaremos _Create credentials_ y escogeremos _API Key_. Nos aparecer\u00e1 una ventana con una cadena de caracteres que representa nuestra clave. Para que el siguiente ejemplo funcione, **es necesario que asign\u00e9is a la variable api_key el valor de vuestra clave**."
     ]
    },
    {
     "cell_type": "code",
     "collapsed": false,
     "input": [
      "# Importamos la librer\u00eda googlemaps, que interactuar\u00e1 con la API de google maps\n",
      "import googlemaps\n",
      "\n",
      "# Importamos la librer\u00eda datetime, que nos ofrece funciones de manejos de fechas\n",
      "from datetime import datetime\n",
      "\n",
      "####################################################################################\n",
      "# ATENCI\u00d3N! Asignad a la variable api_key la clave que hay\u00e1is obtenido de google\n",
      "api_key = \"\"\n",
      "####################################################################################\n",
      "\n",
      "# Inicializamos el cliente, indicando la clave de autenticaci\u00f3n\n",
      "gmaps = googlemaps.Client(key=api_key)\n"
     ],
     "language": "python",
     "metadata": {},
     "outputs": [],
     "prompt_number": 9
    },
    {
     "cell_type": "markdown",
     "metadata": {},
     "source": [
      "En primer lugar, utilizaremos la [API de geocodificaci\u00f3n](https://developers.google.com/maps/documentation/geocoding/start) para obtener datos de una direcci\u00f3n a trav\u00e9s del m\u00e9todo [geocode](https://googlemaps.github.io/google-maps-services-python/docs/2.4.6/#googlemaps.Client.geocode) del cliente de google maps que nos ofrece la librer\u00eda (almacenado en la variable `gmaps`)."
     ]
    },
    {
     "cell_type": "code",
     "collapsed": false,
     "input": [
      "# Utilizamos la API de geocodificaci\u00f3n para obtener datos de una direcci\u00f3n\n",
      "geocode_result = gmaps.geocode('Rambla del Poblenou, 156, Barcelona')\n",
      "print(\"------ Resultado de geocode ------\")\n",
      "json_print(geocode_result, 20)"
     ],
     "language": "python",
     "metadata": {},
     "outputs": [
      {
       "output_type": "stream",
       "stream": "stdout",
       "text": [
        "------ Resultado de geocode ------\n",
        "[\n",
        "   {\n",
        "      \"address_components\": [\n",
        "         {\n",
        "            \"long_name\": \"156\",\n",
        "            \"short_name\": \"156\",\n",
        "            \"types\": [\n",
        "               \"street_number\"\n",
        "            ]\n",
        "         },\n",
        "         {\n",
        "            \"long_name\": \"Rambla del Poblenou\",\n",
        "            \"short_name\": \"Rambla del Poblenou\",\n",
        "            \"types\": [\n",
        "               \"route\"\n",
        "            ]\n",
        "         },\n",
        "         {\n",
        "            \"long_name\": \"Barcelona\",\n",
        "            \"short_name\": \"Barcelona\",\n",
        "[...]\n"
       ]
      }
     ],
     "prompt_number": 10
    },
    {
     "cell_type": "markdown",
     "metadata": {},
     "source": [
      "Otro ejemplo del uso de la [API de geocodificaci\u00f3n](https://developers.google.com/maps/documentation/geocoding/start) utiliza el m\u00e9todo [reverse_geocode](https://googlemaps.github.io/google-maps-services-python/docs/2.4.6/#googlemaps.Client.reverse_geocode) para obtener informaci\u00f3n sobre unas coordenadas geogr\u00e1ficas concretas:"
     ]
    },
    {
     "cell_type": "code",
     "collapsed": false,
     "input": [
      "# Obtenemos datos sobre unas coordenadas geogr\u00e1ficas\n",
      "reverse_geocode_result = gmaps.reverse_geocode((41.2768089, 1.9884642))\n",
      "print(\"------ Resultado de reverse geocode ------\")\n",
      "json_print(reverse_geocode_result, 20)\n",
      "\n"
     ],
     "language": "python",
     "metadata": {},
     "outputs": [
      {
       "output_type": "stream",
       "stream": "stdout",
       "text": [
        "------ Resultado de reverse geocode ------\n",
        "[\n",
        "   {\n",
        "      \"address_components\": [\n",
        "         {\n",
        "            \"long_name\": \"17\",\n",
        "            \"short_name\": \"17\",\n",
        "            \"types\": [\n",
        "               \"street_number\"\n",
        "            ]\n",
        "         },\n",
        "         {\n",
        "            \"long_name\": \"Avinguda del Canal Ol\\u00edmpic\",\n",
        "            \"short_name\": \"Av. del Canal Ol\\u00edmpic\",\n",
        "            \"types\": [\n",
        "               \"route\"\n",
        "            ]\n",
        "         },\n",
        "         {\n",
        "            \"long_name\": \"Castelldefels\",\n",
        "            \"short_name\": \"Castelldefels\",\n",
        "[...]\n"
       ]
      }
     ],
     "prompt_number": 11
    },
    {
     "cell_type": "markdown",
     "metadata": {},
     "source": [
      "El siguiente ejemplo interact\u00faa con la [API de direcciones](https://developers.google.com/maps/documentation/directions/), usando el m\u00e9todo [directions](https://googlemaps.github.io/google-maps-services-python/docs/2.4.6/#googlemaps.Client.directions) de la librer\u00eda googlemaps de Python, para obtener indicaciones de desplazamiento entre dos puntos."
     ]
    },
    {
     "cell_type": "code",
     "collapsed": false,
     "input": [
      "# Obtenemos indicaciones sobre c\u00f3mo ir de una direcci\u00f3n a otra, considerando el tr\u00e1fico del momento actual\n",
      "now = datetime.now()\n",
      "directions_result = gmaps.directions(\"Carrer Colom, 114, Terrassa\",\n",
      "                                     \"Carrer Sant Antoni, 1, Salt\",\n",
      "                                     mode=\"transit\",\n",
      "                                     departure_time=now)\n",
      "print(\"------ Resultado de directions ------\")\n",
      "json_print(directions_result, 15)"
     ],
     "language": "python",
     "metadata": {},
     "outputs": [
      {
       "output_type": "stream",
       "stream": "stdout",
       "text": [
        "------ Resultado de directions ------\n",
        "[\n",
        "   {\n",
        "      \"bounds\": {\n",
        "         \"northeast\": {\n",
        "            \"lat\": 41.98102,\n",
        "            \"lng\": 2.817006\n",
        "         },\n",
        "         \"southwest\": {\n",
        "            \"lat\": 41.481153,\n",
        "            \"lng\": 2.014348\n",
        "         }\n",
        "      },\n",
        "      \"copyrights\": \"Map data \\u00a92017 Google, Inst. Geogr. Nacional\",\n",
        "      \"legs\": [\n",
        "         {\n",
        "[...]\n"
       ]
      }
     ],
     "prompt_number": 12
    },
    {
     "cell_type": "markdown",
     "metadata": {},
     "source": [
      "Notad que, en este caso, no hemos tenido que gestionar las peticiones HTTP manualmente: la librer\u00eda lo ha hecho por nosotros de forma transparente. \n",
      "\n",
      "Adem\u00e1s, las funciones de la librer\u00eda nos devuelven directamente objetos Python, que pueden ser usados como cualquier otro. Por ejemplo, podemos seleccionar solo una parte de las respuestas de las APIs seg\u00fan nuestro inter\u00e9s:"
     ]
    },
    {
     "cell_type": "code",
     "collapsed": false,
     "input": [
      "# Mostramos las claves del diccionario que devuelve la llamada a geocode\n",
      "geocode_result[0].keys()"
     ],
     "language": "python",
     "metadata": {},
     "outputs": [
      {
       "metadata": {},
       "output_type": "pyout",
       "prompt_number": 17,
       "text": [
        "[u'geometry',\n",
        " u'address_components',\n",
        " u'place_id',\n",
        " u'formatted_address',\n",
        " u'types']"
       ]
      }
     ],
     "prompt_number": 17
    },
    {
     "cell_type": "code",
     "collapsed": false,
     "input": [
      "# Mostramos \u00fanicamente las coordenadas geogr\u00e1ficas de la direcci\u00f3n de inter\u00e9s\n",
      "geocode_result[0][\"geometry\"][\"location\"]"
     ],
     "language": "python",
     "metadata": {},
     "outputs": [
      {
       "metadata": {},
       "output_type": "pyout",
       "prompt_number": 18,
       "text": [
        "{u'lat': 41.4063554, u'lng': 2.1947451}"
       ]
      }
     ],
     "prompt_number": 18
    },
    {
     "cell_type": "code",
     "collapsed": false,
     "input": [
      "# Mostramos las localizaciones cercanas a las coordenadas geogr\u00e1ficas que hemos preguntado con reverse_geocode, \n",
      "# imprimiendo las coordenadas exactas y la direcci\u00f3n\n",
      "for result in reverse_geocode_result:\n",
      "    print result[\"geometry\"][\"location\"], result[\"formatted_address\"]"
     ],
     "language": "python",
     "metadata": {},
     "outputs": [
      {
       "output_type": "stream",
       "stream": "stdout",
       "text": [
        "{u'lat': 41.2772149, u'lng': 1.9892062} Av. del Canal Ol\u00edmpic, 17, 08860 Castelldefels, Barcelona, Spain\n",
        "{u'lat': 41.2800161, u'lng': 1.9766294} Castelldefels, Barcelona, Spain\n",
        "{u'lat': 41.2790599, u'lng': 1.9734743} Castelldefels, Barcelona, Spain\n",
        "{u'lat': 41.2792267, u'lng': 1.9636914} 08860 Sitges, Barcelona, Spain\n",
        "{u'lat': 41.3847492, u'lng': 1.949021} El Baix Llobregat, Barcelona, Spain\n",
        "{u'lat': 41.383401, u'lng': 2.027319} Barcelona Metropolitan Area, Barcelona, Spain\n",
        "{u'lat': 41.3850477, u'lng': 2.1733131} Barcelona, Spain\n",
        "{u'lat': 41.5911589, u'lng': 1.5208624} Catalonia, Spain\n",
        "{u'lat': 40.46366700000001, u'lng': -3.74922} Spain\n"
       ]
      }
     ],
     "prompt_number": 30
    },
    {
     "cell_type": "code",
     "collapsed": false,
     "input": [
      "# Mostramos \u00fanicamente la distancia del trayecto entre los dos puntos preguntados a la API de direcciones\n",
      "print directions_result[0][\"legs\"][0][\"distance\"]"
     ],
     "language": "python",
     "metadata": {},
     "outputs": [
      {
       "output_type": "stream",
       "stream": "stdout",
       "text": [
        "{u'text': u'112 km', u'value': 112026}\n"
       ]
      }
     ],
     "prompt_number": 40
    },
    {
     "cell_type": "markdown",
     "metadata": {},
     "source": [
      "## Capturando datos manualmente: web crawling"
     ]
    },
    {
     "cell_type": "markdown",
     "metadata": {},
     "source": [
      "[Scrapy](https://scrapy.org/) es una librer\u00eda de Python que provee de un framework para la extracci\u00f3n de datos de p\u00e1ginas web. Scrapy es muy completa y dispone de m\u00faltiples funcionalidades, pero veremos un ejemplo sencillo de su uso.\n",
      "\n",
      "Suponed que queremos obtener un listado de las titulaciones de grado que ofrece la UOC. La UOC no ofrece una API con esta informaci\u00f3n, pero s\u00ed que podemos encontrarla en la p\u00e1gina http://estudios.uoc.edu/es/grados. De todos modos, no queremos ir copiando manualmente los nombres de todas las titulaciones para obtener el listado de inter\u00e9s, por lo que desarollaremos un peque\u00f1o *crawler* que obtenga estos datos por nosotros.\n",
      "\n",
      "Ya tenemos identificada la url que queremos explorar (http://estudios.uoc.edu/es/grados), as\u00ed que solo ser\u00e1 necesario identificar d\u00f3nde se encuentran los datos de inter\u00e9s dentro de la p\u00e1gina. Para hacerlo, en primer lugar nos fijaremos en alg\u00fan t\u00edtulo de grado que aparezca en la p\u00e1gina, por ejemplo, Dise\u00f1o y Creaci\u00f3n Digitales o Multimedia. Seguidamente accederemos al c\u00f3digo fuente de la p\u00e1gina (podemos usar la combinaci\u00f3n de teclas `CTRL + u` en los navegadores Firefox o Chrome) y buscaremos los nombres de los grados que hemos visto anteriormente:\n",
      "\n",
      "\n"
     ]
    },
    {
     "cell_type": "raw",
     "metadata": {},
     "source": [
      "<a \n",
      "   title=\"Dise\u00f1o y Creaci\u00f3n Digitales\" \n",
      "   href=\"/es/grados/dise\u00f1o-creacion-digital/presentacion\" \n",
      "   class=\"card-absolute-link\">\n",
      "    &nbsp;\n",
      "</a>"
     ]
    },
    {
     "cell_type": "raw",
     "metadata": {},
     "source": [
      "<a \n",
      "   title=\"Multimedia\" \n",
      "   href=\"/es/grados/multimedia/presentacion\" \n",
      "   class=\"card-absolute-link\">\n",
      "    &nbsp;\n",
      "</a> "
     ]
    },
    {
     "cell_type": "markdown",
     "metadata": {},
     "source": [
      "Como se puede apreciar, los datos que queremos recopilar (los nombres de las titulaciones de grado que ofrece la UOC) se encuentran en el atributo t\u00edtulo (_title_) de un hiperv\u00ednculo (un elemento se\u00f1alado con la etiqueta `<a>`) que tiene el atributo clase fijado a \u00abcard-absolute-link\u00bb. \n",
      "\n",
      "Para indicar que queremos seleccionar estos datos, utilizaremos la sintaxis XPath. En concreto, utilizaremos la expresi\u00f3n:\n",
      "```\n",
      "//a[@class=\"card-absolute-link\"]/@title\n",
      "```\n",
      "\n",
      "que nos indica que queremos seleccionar todas las etiquetas `<a>` que tengan como atributo clase el valor \"card-absolute-link\" y de ellas extraer el t\u00edtulo. Con esto ya podemos programar nuestra ara\u00f1a para que extraiga los datos de inter\u00e9s.\n",
      "\n",
      "La estructura de un *crawler* con Scrapy viene prefijada. En nuestro caso, solo ser\u00e1 necesario definir una ara\u00f1a e incluir un *parser* que extraiga los datos de las titulaciones y que disponga de la URL de inicio."
     ]
    },
    {
     "cell_type": "code",
     "collapsed": false,
     "input": [
      "# Importamos scrapy\n",
      "import scrapy\n",
      "from scrapy.crawler import CrawlerProcess\n",
      "\n",
      "# Creamos la ara\u00f1a\n",
      "class uoc_spider(scrapy.Spider):\n",
      "    \n",
      "    # Asignamos un nombre a la ara\u00f1a\n",
      "    name = \"uoc_spider\"\n",
      "    \n",
      "    # Indicamos la url que queremos analizar en primer lugar\n",
      "    start_urls = [\n",
      "        \"http://estudios.uoc.edu/es/grados\"\n",
      "    ]\n",
      "\n",
      "    # Definimos el analizador\n",
      "    def parse(self, response):\n",
      "        # Extraemos el t\u00edtulo del grado\n",
      "        for grado in response.xpath('//a[@class=\"card-absolute-link\"]/@title'):\n",
      "            yield {\n",
      "                'title': grado.extract()\n",
      "            }"
     ],
     "language": "python",
     "metadata": {},
     "outputs": [],
     "prompt_number": 1
    },
    {
     "cell_type": "markdown",
     "metadata": {},
     "source": [
      "Una vez definida la ara\u00f1a, lanzaremos el *crawler* indicando que queremos que use la ara\u00f1a `uoc_spider` que acabamos de definir:"
     ]
    },
    {
     "cell_type": "code",
     "collapsed": false,
     "input": [
      "if __name__ == \"__main__\":\n",
      "\n",
      "    # Creamos un crawler\n",
      "    process = CrawlerProcess({\n",
      "        'USER_AGENT': 'Mozilla/4.0 (compatible; MSIE 7.0; Windows NT 5.1)',\n",
      "        'DOWNLOAD_HANDLERS': {'s3': None},\n",
      "        'LOG_ENABLED': False\n",
      "    })\n",
      "\n",
      "    # Inicializamos el crawler con nuestra ara\u00f1a\n",
      "    process.crawl(uoc_spider)\n",
      "    \n",
      "    # Lanzamos la ara\u00f1a\n",
      "    process.start()"
     ],
     "language": "python",
     "metadata": {},
     "outputs": [
      {
       "output_type": "stream",
       "stream": "stderr",
       "text": [
        "INFO:scrapy.utils.log:Scrapy 1.0.3 started (bot: scrapybot)\n"
       ]
      },
      {
       "output_type": "stream",
       "stream": "stderr",
       "text": [
        "INFO:scrapy.utils.log:Optional features available: ssl, http11, boto\n"
       ]
      },
      {
       "output_type": "stream",
       "stream": "stderr",
       "text": [
        "INFO:scrapy.utils.log:Overridden settings: {'USER_AGENT': 'Mozilla/4.0 (compatible; MSIE 7.0; Windows NT 5.1)', 'LOG_ENABLED': False}\n"
       ]
      },
      {
       "output_type": "stream",
       "stream": "stderr",
       "text": [
        "INFO:scrapy.middleware:Enabled extensions: CloseSpider, TelnetConsole, LogStats, CoreStats, SpiderState\n"
       ]
      },
      {
       "output_type": "stream",
       "stream": "stderr",
       "text": [
        "INFO:scrapy.middleware:Enabled downloader middlewares: HttpAuthMiddleware, DownloadTimeoutMiddleware, UserAgentMiddleware, RetryMiddleware, DefaultHeadersMiddleware, MetaRefreshMiddleware, HttpCompressionMiddleware, RedirectMiddleware, CookiesMiddleware, ChunkedTransferMiddleware, DownloaderStats\n"
       ]
      },
      {
       "output_type": "stream",
       "stream": "stderr",
       "text": [
        "INFO:scrapy.middleware:Enabled spider middlewares: HttpErrorMiddleware, OffsiteMiddleware, RefererMiddleware, UrlLengthMiddleware, DepthMiddleware\n"
       ]
      },
      {
       "output_type": "stream",
       "stream": "stderr",
       "text": [
        "INFO:scrapy.middleware:Enabled item pipelines: \n"
       ]
      },
      {
       "output_type": "stream",
       "stream": "stderr",
       "text": [
        "INFO:scrapy.core.engine:Spider opened\n"
       ]
      },
      {
       "output_type": "stream",
       "stream": "stderr",
       "text": [
        "INFO:scrapy.extensions.logstats:Crawled 0 pages (at 0 pages/min), scraped 0 items (at 0 items/min)\n"
       ]
      },
      {
       "output_type": "stream",
       "stream": "stderr",
       "text": [
        "DEBUG:scrapy.telnet:Telnet console listening on 127.0.0.1:6025\n"
       ]
      },
      {
       "output_type": "stream",
       "stream": "stderr",
       "text": [
        "DEBUG:scrapy.core.engine:Crawled (200) <GET http://estudios.uoc.edu/es/grados> (referer: None)\n"
       ]
      },
      {
       "output_type": "stream",
       "stream": "stderr",
       "text": [
        "DEBUG:scrapy.core.scraper:Scraped from <200 http://estudios.uoc.edu/es/grados>\n",
        "{'title': u'Antropolog\\xeda y Evoluci\\xf3n Humana (interuniversitario: URV, UOC)'}\n"
       ]
      },
      {
       "output_type": "stream",
       "stream": "stderr",
       "text": [
        "DEBUG:scrapy.core.scraper:Scraped from <200 http://estudios.uoc.edu/es/grados>\n",
        "{'title': u'Ciencias Sociales'}\n"
       ]
      },
      {
       "output_type": "stream",
       "stream": "stderr",
       "text": [
        "DEBUG:scrapy.core.scraper:Scraped from <200 http://estudios.uoc.edu/es/grados>\n",
        "{'title': u'Historia, Geograf\\xeda e Historia del Arte (interuniversitario: UOC, UdL)'}\n"
       ]
      },
      {
       "output_type": "stream",
       "stream": "stderr",
       "text": [
        "DEBUG:scrapy.core.scraper:Scraped from <200 http://estudios.uoc.edu/es/grados>\n",
        "{'title': u'Humanidades'}\n"
       ]
      },
      {
       "output_type": "stream",
       "stream": "stderr",
       "text": [
        "DEBUG:scrapy.core.scraper:Scraped from <200 http://estudios.uoc.edu/es/grados>\n",
        "{'title': u'Lengua y Literatura Catalanas'}\n"
       ]
      },
      {
       "output_type": "stream",
       "stream": "stderr",
       "text": [
        "DEBUG:scrapy.core.scraper:Scraped from <200 http://estudios.uoc.edu/es/grados>\n",
        "{'title': u'Traducci\\xf3n, Interpretaci\\xf3n y Lenguas Aplicadas (interuniversitario: UVic-UCC, UOC)'}\n"
       ]
      },
      {
       "output_type": "stream",
       "stream": "stderr",
       "text": [
        "DEBUG:scrapy.core.scraper:Scraped from <200 http://estudios.uoc.edu/es/grados>\n",
        "{'title': u'Comunicaci\\xf3n'}\n"
       ]
      },
      {
       "output_type": "stream",
       "stream": "stderr",
       "text": [
        "DEBUG:scrapy.core.scraper:Scraped from <200 http://estudios.uoc.edu/es/grados>\n",
        "{'title': u'Dise\\xf1o y Creaci\\xf3n Digitales'}\n"
       ]
      },
      {
       "output_type": "stream",
       "stream": "stderr",
       "text": [
        "DEBUG:scrapy.core.scraper:Scraped from <200 http://estudios.uoc.edu/es/grados>\n",
        "{'title': u'Informaci\\xf3n y Documentaci\\xf3n'}\n"
       ]
      },
      {
       "output_type": "stream",
       "stream": "stderr",
       "text": [
        "DEBUG:scrapy.core.scraper:Scraped from <200 http://estudios.uoc.edu/es/grados>\n",
        "{'title': u'Criminolog\\xeda'}\n"
       ]
      },
      {
       "output_type": "stream",
       "stream": "stderr",
       "text": [
        "DEBUG:scrapy.core.scraper:Scraped from <200 http://estudios.uoc.edu/es/grados>\n",
        "{'title': u'Derecho'}\n"
       ]
      },
      {
       "output_type": "stream",
       "stream": "stderr",
       "text": [
        "DEBUG:scrapy.core.scraper:Scraped from <200 http://estudios.uoc.edu/es/grados>\n",
        "{'title': u'Gesti\\xf3n y Administraci\\xf3n P\\xfablica (interuniversitario: UOC, UB)'}\n"
       ]
      },
      {
       "output_type": "stream",
       "stream": "stderr",
       "text": [
        "DEBUG:scrapy.core.scraper:Scraped from <200 http://estudios.uoc.edu/es/grados>\n",
        "{'title': u'Dise\\xf1o y Creaci\\xf3n Digitales'}\n"
       ]
      },
      {
       "output_type": "stream",
       "stream": "stderr",
       "text": [
        "DEBUG:scrapy.core.scraper:Scraped from <200 http://estudios.uoc.edu/es/grados>\n",
        "{'title': u'Multimedia'}\n"
       ]
      },
      {
       "output_type": "stream",
       "stream": "stderr",
       "text": [
        "DEBUG:scrapy.core.scraper:Scraped from <200 http://estudios.uoc.edu/es/grados>\n",
        "{'title': u'Administraci\\xf3n y Direcci\\xf3n de Empresas'}\n"
       ]
      },
      {
       "output_type": "stream",
       "stream": "stderr",
       "text": [
        "DEBUG:scrapy.core.scraper:Scraped from <200 http://estudios.uoc.edu/es/grados>\n",
        "{'title': u'Doble titulaci\\xf3n de Administraci\\xf3n y Direcci\\xf3n de Empresas y de Turismo'}\n"
       ]
      },
      {
       "output_type": "stream",
       "stream": "stderr",
       "text": [
        "DEBUG:scrapy.core.scraper:Scraped from <200 http://estudios.uoc.edu/es/grados>\n",
        "{'title': u'Econom\\xeda'}\n"
       ]
      },
      {
       "output_type": "stream",
       "stream": "stderr",
       "text": [
        "DEBUG:scrapy.core.scraper:Scraped from <200 http://estudios.uoc.edu/es/grados>\n",
        "{'title': u'Marketing e Investigaci\\xf3n de Mercados'}\n"
       ]
      },
      {
       "output_type": "stream",
       "stream": "stderr",
       "text": [
        "DEBUG:scrapy.core.scraper:Scraped from <200 http://estudios.uoc.edu/es/grados>\n",
        "{'title': u'Relaciones Laborales y Ocupaci\\xf3n'}\n"
       ]
      },
      {
       "output_type": "stream",
       "stream": "stderr",
       "text": [
        "DEBUG:scrapy.core.scraper:Scraped from <200 http://estudios.uoc.edu/es/grados>\n",
        "{'title': u'Doble titulaci\\xf3n de Ingenier\\xeda Inform\\xe1tica y de Administraci\\xf3n y Direcci\\xf3n de Empresas'}\n"
       ]
      },
      {
       "output_type": "stream",
       "stream": "stderr",
       "text": [
        "DEBUG:scrapy.core.scraper:Scraped from <200 http://estudios.uoc.edu/es/grados>\n",
        "{'title': u'Ingenier\\xeda Inform\\xe1tica'}\n"
       ]
      },
      {
       "output_type": "stream",
       "stream": "stderr",
       "text": [
        "DEBUG:scrapy.core.scraper:Scraped from <200 http://estudios.uoc.edu/es/grados>\n",
        "{'title': u'Multimedia'}\n"
       ]
      },
      {
       "output_type": "stream",
       "stream": "stderr",
       "text": [
        "DEBUG:scrapy.core.scraper:Scraped from <200 http://estudios.uoc.edu/es/grados>\n",
        "{'title': u'Tecnolog\\xedas de la Telecomunicaci\\xf3n'}\n"
       ]
      },
      {
       "output_type": "stream",
       "stream": "stderr",
       "text": [
        "DEBUG:scrapy.core.scraper:Scraped from <200 http://estudios.uoc.edu/es/grados>\n",
        "{'title': u'Educaci\\xf3n Social'}\n"
       ]
      },
      {
       "output_type": "stream",
       "stream": "stderr",
       "text": [
        "DEBUG:scrapy.core.scraper:Scraped from <200 http://estudios.uoc.edu/es/grados>\n",
        "{'title': u'Psicolog\\xeda'}\n"
       ]
      },
      {
       "output_type": "stream",
       "stream": "stderr",
       "text": [
        "DEBUG:scrapy.core.scraper:Scraped from <200 http://estudios.uoc.edu/es/grados>\n",
        "{'title': u'Turismo'}\n"
       ]
      },
      {
       "output_type": "stream",
       "stream": "stderr",
       "text": [
        "INFO:scrapy.core.engine:Closing spider (finished)\n"
       ]
      },
      {
       "output_type": "stream",
       "stream": "stderr",
       "text": [
        "INFO:scrapy.statscollectors:Dumping Scrapy stats:\n",
        "{'downloader/request_bytes': 240,\n",
        " 'downloader/request_count': 1,\n",
        " 'downloader/request_method_count/GET': 1,\n",
        " 'downloader/response_bytes': 196142,\n",
        " 'downloader/response_count': 1,\n",
        " 'downloader/response_status_count/200': 1,\n",
        " 'finish_reason': 'finished',\n",
        " 'finish_time': datetime.datetime(2017, 3, 29, 9, 23, 58, 810837),\n",
        " 'item_scraped_count': 26,\n",
        " 'log_count/DEBUG': 28,\n",
        " 'log_count/INFO': 7,\n",
        " 'response_received_count': 1,\n",
        " 'scheduler/dequeued': 1,\n",
        " 'scheduler/dequeued/memory': 1,\n",
        " 'scheduler/enqueued': 1,\n",
        " 'scheduler/enqueued/memory': 1,\n",
        " 'start_time': datetime.datetime(2017, 3, 29, 9, 23, 57, 719932)}\n"
       ]
      },
      {
       "output_type": "stream",
       "stream": "stderr",
       "text": [
        "INFO:scrapy.core.engine:Spider closed (finished)\n"
       ]
      }
     ],
     "prompt_number": 2
    },
    {
     "cell_type": "markdown",
     "metadata": {},
     "source": [
      "La ejecuci\u00f3n de Scrapy muestra un log detallado con todos los eventos que han ido ocurriendo, lo que es muy \u00fatil para identificar problemas, sobre todo en capturas complejas. En nuestro caso, adem\u00e1s, podemos ver como se han extra\u00eddo los nombres de las titulaciones de grado:"
     ]
    },
    {
     "cell_type": "raw",
     "metadata": {},
     "source": [
      "DEBUG:scrapy.core.scraper:Scraped from <200 http://estudios.uoc.edu/es/grados>\n",
      "{'title': u'Antropolog\\xeda y Evoluci\\xf3n Humana (interuniversitario: URV, UOC)'}\n",
      "DEBUG:scrapy.core.scraper:Scraped from <200 http://estudios.uoc.edu/es/grados>\n",
      "{'title': u'Ciencias Sociales'}\n",
      "DEBUG:scrapy.core.scraper:Scraped from <200 http://estudios.uoc.edu/es/grados>\n",
      "{'title': u'Historia, Geograf\\xeda e Historia del Arte (interuniversitario: UOC, UdL)'}\n",
      "DEBUG:scrapy.core.scraper:Scraped from <200 http://estudios.uoc.edu/es/grados>\n",
      "{'title': u'Humanidades'}\n",
      "DEBUG:scrapy.core.scraper:Scraped from <200 http://estudios.uoc.edu/es/grados>\n",
      "{'title': u'Lengua y Literatura Catalanas'}\n",
      "DEBUG:scrapy.core.scraper:Scraped from <200 http://estudios.uoc.edu/es/grados>\n",
      "{'title': u'Traducci\\xf3n, Interpretaci\\xf3n y Lenguas Aplicadas (interuniversitario: UVic-UCC, UOC)'}"
     ]
    }
   ],
   "metadata": {}
  }
 ]
}